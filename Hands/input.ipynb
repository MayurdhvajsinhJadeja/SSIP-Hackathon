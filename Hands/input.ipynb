{
 "cells": [
  {
   "cell_type": "code",
   "execution_count": 1,
   "metadata": {},
   "outputs": [],
   "source": [
    "import cv2\n",
    "import numpy as np\n",
    "import os\n",
    "from matplotlib import pyplot as plt\n",
    "import time\n",
    "import mediapipe as mp\n",
    "\n",
    "import tensorflow as tf\n",
    "from tensorflow import keras,lite\n",
    "\n",
    "from keras.models import load_model\n",
    "from keras.models import Sequential\n",
    "from keras.layers import LSTM, Dense\n",
    "from keras.callbacks import TensorBoard\n",
    "\n",
    "from sklearn.model_selection import train_test_split\n",
    "from keras.utils import to_categorical\n",
    "\n",
    "from sklearn.metrics import multilabel_confusion_matrix, accuracy_score"
   ]
  },
  {
   "cell_type": "code",
   "execution_count": 2,
   "metadata": {},
   "outputs": [
    {
     "data": {
      "text/plain": [
       "'2.10.0'"
      ]
     },
     "execution_count": 2,
     "metadata": {},
     "output_type": "execute_result"
    }
   ],
   "source": [
    "tf.version.VERSION"
   ]
  },
  {
   "cell_type": "code",
   "execution_count": 3,
   "metadata": {},
   "outputs": [],
   "source": [
    "mp_hands = mp.solutions.hands # Holistic model\n",
    "mp_drawing = mp.solutions.drawing_utils # Drawing utilities\n",
    "\n",
    "def mediapipe_detection(image, model):\n",
    "    image = cv2.cvtColor(image, cv2.COLOR_BGR2RGB) # COLOR CONVERSION BGR 2 RGB\n",
    "    image.flags.writeable = False                  # Image is no longer writeable\n",
    "    results = model.process(image)                 # Make prediction\n",
    "    image.flags.writeable = True                   # Image is now writeable \n",
    "    image = cv2.cvtColor(image, cv2.COLOR_RGB2BGR) # COLOR COVERSION RGB 2 BGR\n",
    "    return image, results\n",
    "\n",
    "\n",
    "def draw_styled_landmarks(image, results):\n",
    "    # Draw left hand connections\n",
    "    if not results.multi_hand_landmarks:\n",
    "        return\n",
    "    for hand_landmarks in results.multi_hand_landmarks:\n",
    "        mp_drawing.draw_landmarks(image, hand_landmarks, mp_hands.HAND_CONNECTIONS, \n",
    "                             mp_drawing.DrawingSpec(color=(121,22,76), thickness=2, circle_radius=4), \n",
    "                             mp_drawing.DrawingSpec(color=(121,44,250), thickness=2, circle_radius=2)\n",
    "                             )\n",
    "    \n",
    "def draw_landmarks(image, results):\n",
    "    if not results.multi_hand_landmarks:\n",
    "        return\n",
    "    for hand_landmarks in results.multi_hand_landmarks:\n",
    "        mp_drawing.draw_landmarks(image, hand_landmarks, mp_hands.HAND_CONNECTIONS) # Draw left hand connections\n",
    "    \n",
    "def extract_keypoints(results):\n",
    "    lh = np.array([[res.landmark[point].x, res.landmark[point].y, res.landmark[point].z] for point in mp_hands.HandLandmark for res in results.multi_hand_landmarks], dtype=float).flatten() if results.multi_hand_landmarks else np.zeros(21*3*2)\n",
    "    if lh.shape[0] == 63:\n",
    "        rh = np.array([[res.landmark[point].x, res.landmark[point].y, res.landmark[point].z] for point in mp_hands.HandLandmark for res in results.multi_hand_landmarks], dtype=float).flatten() if results.multi_hand_landmarks else np.zeros(21*3)\n",
    "        return np.concatenate([lh, rh])\n",
    "    # rh = np.array([[res.landmark[point].x, res.landmark[point].y, res.landmark[point].z] for point in mp_hands.HandLandmark for res in results.multi_hand_landmarks], dtype=float).flatten() if results.multi_hand_landmarks else np.zeros(21*3*2)\n",
    "    # return lh\n",
    "    return np.concatenate([lh])\n"
   ]
  },
  {
   "cell_type": "code",
   "execution_count": 21,
   "metadata": {},
   "outputs": [],
   "source": [
    "# Path for exported data, numpy arrays\n",
    "DATA_PATH = os.path.join('MP_Data') \n",
    "\n",
    "# Actions that we try to detect\n",
    "actions = np.array(['hello', 'hii', 'by'])\n",
    "\n",
    "# Thirty videos worth of data\n",
    "no_sequences = 30\n",
    "# no_sequences = 10\n",
    "\n",
    "# Videos are going to be 30 frames in length\n",
    "sequence_length = 30\n",
    "\n",
    "# Folder start\n",
    "start_folder = 0"
   ]
  },
  {
   "cell_type": "code",
   "execution_count": 22,
   "metadata": {},
   "outputs": [],
   "source": [
    "for action in actions: \n",
    "    for sequence in range(0,no_sequences):\n",
    "        try: \n",
    "            os.makedirs(os.path.join(DATA_PATH, action, str(sequence)))\n",
    "        except:\n",
    "            pass"
   ]
  },
  {
   "cell_type": "code",
   "execution_count": 23,
   "metadata": {},
   "outputs": [],
   "source": [
    "try:\n",
    "    cap = cv2.VideoCapture(0)\n",
    "    # Set mediapipe model \n",
    "    with mp_hands.Hands(min_detection_confidence=0.5, min_tracking_confidence=0.5) as hands:\n",
    "        \n",
    "        # NEW LOOP\n",
    "\n",
    "        # Loop through actions\n",
    "        for action in actions:\n",
    "            # Loop through sequences aka videos\n",
    "            for sequence in range(no_sequences):\n",
    "                # Loop through video length aka sequence length\n",
    "                for frame_num in range(sequence_length):\n",
    "\n",
    "                    # Read feed\n",
    "                    ret, frame = cap.read()\n",
    "\n",
    "                    # Make detections\n",
    "                    image, results = mediapipe_detection(frame, hands)\n",
    "\n",
    "                    # Draw landmarks\n",
    "                    draw_styled_landmarks(image, results)\n",
    "                    \n",
    "                    # NEW Apply wait logic\n",
    "                    if frame_num == 0: \n",
    "                        cv2.putText(image, 'STARTING COLLECTION', (120,200), \n",
    "                                cv2.FONT_HERSHEY_SIMPLEX, 1, (0,255, 0), 4, cv2.LINE_AA)\n",
    "                        cv2.putText(image, 'Collecting frames for {} Video Number {}'.format(action, sequence), (15,12), \n",
    "                                cv2.FONT_HERSHEY_SIMPLEX, 0.5, (0, 0, 255), 1, cv2.LINE_AA)\n",
    "                        # Show to screen\n",
    "                        cv2.imshow('OpenCV Feed', image)\n",
    "                        cv2.waitKey(500)\n",
    "                    else: \n",
    "                        cv2.putText(image, 'Collecting frames for {} Video Number {}'.format(action, sequence), (15,12), \n",
    "                                cv2.FONT_HERSHEY_SIMPLEX, 0.5, (0, 0, 255), 1, cv2.LINE_AA)\n",
    "                        # Show to screen\n",
    "                        cv2.imshow('OpenCV Feed', image)\n",
    "                    \n",
    "                    # NEW Export keypoints\n",
    "                    keypoints = extract_keypoints(results)\n",
    "                    # print(keypoints.shape)\n",
    "                    npy_path = os.path.join(DATA_PATH, action, str(sequence), str(frame_num))\n",
    "                    np.save(npy_path, keypoints)\n",
    "\n",
    "                    # Break gracefully\n",
    "                    if cv2.waitKey(10) & 0xFF == ord('q'):\n",
    "                        break\n",
    "                        \n",
    "        cap.release()\n",
    "        cv2.destroyAllWindows()\n",
    "\n",
    "finally:\n",
    "    # print(\"error\")\n",
    "    cap.release()\n",
    "    cv2.destroyAllWindows()"
   ]
  },
  {
   "cell_type": "code",
   "execution_count": 87,
   "metadata": {},
   "outputs": [],
   "source": [
    "cap.release()\n",
    "cv2.destroyAllWindows()"
   ]
  },
  {
   "cell_type": "code",
   "execution_count": 24,
   "metadata": {},
   "outputs": [
    {
     "name": "stdout",
     "output_type": "stream",
     "text": [
      "{'hello': 0, 'hii': 1, 'by': 2}\n"
     ]
    }
   ],
   "source": [
    "label_map = {label: num for num, label in enumerate(actions)}\n",
    "print(label_map)"
   ]
  },
  {
   "cell_type": "code",
   "execution_count": 25,
   "metadata": {},
   "outputs": [],
   "source": [
    "sequences, labels = [], []\n",
    "for action in actions:\n",
    "    for sequence in np.array(os.listdir(os.path.join(DATA_PATH, action))).astype(int):\n",
    "        window = []\n",
    "        for frame_num in range(sequence_length):\n",
    "            res = np.load(os.path.join(DATA_PATH, action, str(sequence), \"{}.npy\".format(frame_num)))\n",
    "            window.append(res)\n",
    "        sequences.append(window)\n",
    "        labels.append(label_map[action])\n"
   ]
  },
  {
   "cell_type": "code",
   "execution_count": 26,
   "metadata": {},
   "outputs": [
    {
     "name": "stdout",
     "output_type": "stream",
     "text": [
      "(30, 30, 126)\n",
      "(30,)\n",
      "(30, 30, 126)\n",
      "(2, 3)\n"
     ]
    }
   ],
   "source": [
    "# print(sequences)\n",
    "print(np.array(sequences).shape)\n",
    "print(np.array(labels).shape)\n",
    "X = np.array(sequences)\n",
    "print(X.shape)\n",
    "y = to_categorical(labels).astype(int)\n",
    "X_train, X_test, y_train, y_test = train_test_split(X, y, test_size=0.05)\n",
    "print(y_test.shape)"
   ]
  },
  {
   "cell_type": "code",
   "execution_count": 27,
   "metadata": {},
   "outputs": [],
   "source": [
    "log_dir = os.path.join('Logs')\n",
    "tb_callback = TensorBoard(log_dir=log_dir)\n",
    "\n",
    "model = Sequential()\n",
    "model.add(LSTM(64, return_sequences=True, activation='relu', input_shape=(sequence_length,X.shape[2])))\n",
    "model.add(LSTM(128, return_sequences=True, activation='relu'))\n",
    "model.add(LSTM(64, return_sequences=False, activation='relu'))\n",
    "model.add(Dense(64, activation='relu'))\n",
    "model.add(Dense(32, activation='relu'))\n",
    "model.add(Dense(actions.shape[0], activation='softmax'))\n",
    "\n",
    "model.compile(optimizer='Adam', loss='categorical_crossentropy', metrics=['categorical_accuracy'])"
   ]
  },
  {
   "cell_type": "code",
   "execution_count": 245,
   "metadata": {},
   "outputs": [],
   "source": [
    "# del model"
   ]
  },
  {
   "cell_type": "code",
   "execution_count": 28,
   "metadata": {},
   "outputs": [
    {
     "name": "stdout",
     "output_type": "stream",
     "text": [
      "Model: \"sequential_1\"\n",
      "_________________________________________________________________\n",
      " Layer (type)                Output Shape              Param #   \n",
      "=================================================================\n",
      " lstm_3 (LSTM)               (None, 30, 64)            48896     \n",
      "                                                                 \n",
      " lstm_4 (LSTM)               (None, 30, 128)           98816     \n",
      "                                                                 \n",
      " lstm_5 (LSTM)               (None, 64)                49408     \n",
      "                                                                 \n",
      " dense_3 (Dense)             (None, 64)                4160      \n",
      "                                                                 \n",
      " dense_4 (Dense)             (None, 32)                2080      \n",
      "                                                                 \n",
      " dense_5 (Dense)             (None, 3)                 99        \n",
      "                                                                 \n",
      "=================================================================\n",
      "Total params: 203,459\n",
      "Trainable params: 203,459\n",
      "Non-trainable params: 0\n",
      "_________________________________________________________________\n"
     ]
    }
   ],
   "source": [
    "model.summary()"
   ]
  },
  {
   "cell_type": "code",
   "execution_count": 29,
   "metadata": {},
   "outputs": [
    {
     "name": "stdout",
     "output_type": "stream",
     "text": [
      "Epoch 1/60\n",
      "1/1 [==============================] - 3s 3s/step - loss: 1.1044 - categorical_accuracy: 0.3214\n",
      "Epoch 2/60\n",
      "1/1 [==============================] - 0s 188ms/step - loss: 1.0922 - categorical_accuracy: 0.3929\n",
      "Epoch 3/60\n",
      "1/1 [==============================] - 0s 187ms/step - loss: 1.0834 - categorical_accuracy: 0.7143\n",
      "Epoch 4/60\n",
      "1/1 [==============================] - 0s 176ms/step - loss: 1.0703 - categorical_accuracy: 0.6071\n",
      "Epoch 5/60\n",
      "1/1 [==============================] - 0s 189ms/step - loss: 1.0564 - categorical_accuracy: 0.5714\n",
      "Epoch 6/60\n",
      "1/1 [==============================] - 0s 185ms/step - loss: 1.0305 - categorical_accuracy: 0.7143\n",
      "Epoch 7/60\n",
      "1/1 [==============================] - 0s 189ms/step - loss: 0.9927 - categorical_accuracy: 0.8571\n",
      "Epoch 8/60\n",
      "1/1 [==============================] - 0s 186ms/step - loss: 0.9246 - categorical_accuracy: 0.8214\n",
      "Epoch 9/60\n",
      "1/1 [==============================] - 0s 179ms/step - loss: 0.8098 - categorical_accuracy: 0.8214\n",
      "Epoch 10/60\n",
      "1/1 [==============================] - 0s 177ms/step - loss: 0.6258 - categorical_accuracy: 0.7857\n",
      "Epoch 11/60\n",
      "1/1 [==============================] - 0s 188ms/step - loss: 0.5104 - categorical_accuracy: 0.8214\n",
      "Epoch 12/60\n",
      "1/1 [==============================] - 0s 179ms/step - loss: 3.8444 - categorical_accuracy: 0.5714\n",
      "Epoch 13/60\n",
      "1/1 [==============================] - 0s 177ms/step - loss: 0.4070 - categorical_accuracy: 0.9286\n",
      "Epoch 14/60\n",
      "1/1 [==============================] - 0s 187ms/step - loss: 0.5928 - categorical_accuracy: 0.7857\n",
      "Epoch 15/60\n",
      "1/1 [==============================] - 0s 222ms/step - loss: 0.7181 - categorical_accuracy: 0.6429\n",
      "Epoch 16/60\n",
      "1/1 [==============================] - 0s 187ms/step - loss: 0.7434 - categorical_accuracy: 0.6429\n",
      "Epoch 17/60\n",
      "1/1 [==============================] - 0s 180ms/step - loss: 0.7411 - categorical_accuracy: 0.6429\n",
      "Epoch 18/60\n",
      "1/1 [==============================] - 0s 187ms/step - loss: 0.7331 - categorical_accuracy: 0.6786\n",
      "Epoch 19/60\n",
      "1/1 [==============================] - 0s 179ms/step - loss: 0.7203 - categorical_accuracy: 0.7500\n",
      "Epoch 20/60\n",
      "1/1 [==============================] - 0s 181ms/step - loss: 0.7036 - categorical_accuracy: 0.7857\n",
      "Epoch 21/60\n",
      "1/1 [==============================] - 0s 178ms/step - loss: 0.6826 - categorical_accuracy: 0.7500\n",
      "Epoch 22/60\n",
      "1/1 [==============================] - 0s 175ms/step - loss: 0.6573 - categorical_accuracy: 0.8214\n",
      "Epoch 23/60\n",
      "1/1 [==============================] - 0s 164ms/step - loss: 0.6195 - categorical_accuracy: 0.8929\n",
      "Epoch 24/60\n",
      "1/1 [==============================] - 0s 188ms/step - loss: 0.5722 - categorical_accuracy: 0.8571\n",
      "Epoch 25/60\n",
      "1/1 [==============================] - 0s 190ms/step - loss: 0.5136 - categorical_accuracy: 0.8571\n",
      "Epoch 26/60\n",
      "1/1 [==============================] - 0s 228ms/step - loss: 0.4560 - categorical_accuracy: 0.8929\n",
      "Epoch 27/60\n",
      "1/1 [==============================] - 0s 212ms/step - loss: 0.4260 - categorical_accuracy: 0.8929\n",
      "Epoch 28/60\n",
      "1/1 [==============================] - 0s 262ms/step - loss: 0.4072 - categorical_accuracy: 0.7857\n",
      "Epoch 29/60\n",
      "1/1 [==============================] - 0s 218ms/step - loss: 0.5099 - categorical_accuracy: 0.7500\n",
      "Epoch 30/60\n",
      "1/1 [==============================] - 0s 190ms/step - loss: 0.6003 - categorical_accuracy: 0.7857\n",
      "Epoch 31/60\n",
      "1/1 [==============================] - 0s 175ms/step - loss: 0.5199 - categorical_accuracy: 0.7857\n",
      "Epoch 32/60\n",
      "1/1 [==============================] - 0s 176ms/step - loss: 3.3564 - categorical_accuracy: 0.7500\n",
      "Epoch 33/60\n",
      "1/1 [==============================] - 0s 157ms/step - loss: 0.5546 - categorical_accuracy: 0.8571\n",
      "Epoch 34/60\n",
      "1/1 [==============================] - 0s 166ms/step - loss: 18.7335 - categorical_accuracy: 0.6429\n",
      "Epoch 35/60\n",
      "1/1 [==============================] - 0s 167ms/step - loss: 4.1768 - categorical_accuracy: 0.7857\n",
      "Epoch 36/60\n",
      "1/1 [==============================] - 0s 167ms/step - loss: 2.0300 - categorical_accuracy: 0.8571\n",
      "Epoch 37/60\n",
      "1/1 [==============================] - 0s 167ms/step - loss: 0.9789 - categorical_accuracy: 0.8214\n",
      "Epoch 38/60\n",
      "1/1 [==============================] - 0s 176ms/step - loss: 0.6795 - categorical_accuracy: 0.7143\n",
      "Epoch 39/60\n",
      "1/1 [==============================] - 0s 177ms/step - loss: 0.6928 - categorical_accuracy: 0.7143\n",
      "Epoch 40/60\n",
      "1/1 [==============================] - 0s 166ms/step - loss: 0.7337 - categorical_accuracy: 0.7143\n",
      "Epoch 41/60\n",
      "1/1 [==============================] - 0s 167ms/step - loss: 0.7631 - categorical_accuracy: 0.6429\n",
      "Epoch 42/60\n",
      "1/1 [==============================] - 0s 168ms/step - loss: 0.7805 - categorical_accuracy: 0.6429\n",
      "Epoch 43/60\n",
      "1/1 [==============================] - 0s 176ms/step - loss: 0.7722 - categorical_accuracy: 0.6786\n",
      "Epoch 44/60\n",
      "1/1 [==============================] - 0s 167ms/step - loss: 0.7286 - categorical_accuracy: 0.6786\n",
      "Epoch 45/60\n",
      "1/1 [==============================] - 0s 177ms/step - loss: 0.6833 - categorical_accuracy: 0.7143\n",
      "Epoch 46/60\n",
      "1/1 [==============================] - 0s 167ms/step - loss: 0.6676 - categorical_accuracy: 0.7500\n",
      "Epoch 47/60\n",
      "1/1 [==============================] - 0s 178ms/step - loss: 0.6460 - categorical_accuracy: 0.7500\n",
      "Epoch 48/60\n",
      "1/1 [==============================] - 0s 167ms/step - loss: 0.5969 - categorical_accuracy: 0.7857\n",
      "Epoch 49/60\n",
      "1/1 [==============================] - 0s 167ms/step - loss: 0.5516 - categorical_accuracy: 0.8571\n",
      "Epoch 50/60\n",
      "1/1 [==============================] - 0s 176ms/step - loss: 0.5502 - categorical_accuracy: 0.8214\n",
      "Epoch 51/60\n",
      "1/1 [==============================] - 0s 167ms/step - loss: 0.5024 - categorical_accuracy: 0.8571\n",
      "Epoch 52/60\n",
      "1/1 [==============================] - 0s 163ms/step - loss: 0.4623 - categorical_accuracy: 0.8214\n",
      "Epoch 53/60\n",
      "1/1 [==============================] - 0s 165ms/step - loss: 0.4683 - categorical_accuracy: 0.8571\n",
      "Epoch 54/60\n",
      "1/1 [==============================] - 0s 188ms/step - loss: 0.3906 - categorical_accuracy: 0.8571\n",
      "Epoch 55/60\n",
      "1/1 [==============================] - 0s 248ms/step - loss: 0.4131 - categorical_accuracy: 0.8214\n",
      "Epoch 56/60\n",
      "1/1 [==============================] - 0s 296ms/step - loss: 0.3679 - categorical_accuracy: 0.8571\n",
      "Epoch 57/60\n",
      "1/1 [==============================] - 0s 201ms/step - loss: 0.3940 - categorical_accuracy: 0.8571\n",
      "Epoch 58/60\n",
      "1/1 [==============================] - 0s 223ms/step - loss: 0.2738 - categorical_accuracy: 0.9643\n",
      "Epoch 59/60\n",
      "1/1 [==============================] - 0s 221ms/step - loss: 0.3355 - categorical_accuracy: 0.8571\n",
      "Epoch 60/60\n",
      "1/1 [==============================] - 0s 177ms/step - loss: 0.2745 - categorical_accuracy: 0.8929\n"
     ]
    },
    {
     "data": {
      "text/plain": [
       "<keras.callbacks.History at 0x2c201aebfa0>"
      ]
     },
     "execution_count": 29,
     "metadata": {},
     "output_type": "execute_result"
    }
   ],
   "source": [
    "model.fit(X_train, y_train, epochs=60, callbacks=[tb_callback])\n"
   ]
  },
  {
   "cell_type": "code",
   "execution_count": 31,
   "metadata": {},
   "outputs": [
    {
     "name": "stdout",
     "output_type": "stream",
     "text": [
      "1/1 [==============================] - 0s 356ms/step\n"
     ]
    },
    {
     "data": {
      "text/plain": [
       "array([[5.8107585e-10, 9.9995816e-01, 4.1829247e-05],\n",
       "       [1.0000000e+00, 0.0000000e+00, 0.0000000e+00]], dtype=float32)"
      ]
     },
     "execution_count": 31,
     "metadata": {},
     "output_type": "execute_result"
    }
   ],
   "source": [
    "res = model.predict(X_test)\n",
    "res"
   ]
  },
  {
   "cell_type": "code",
   "execution_count": 37,
   "metadata": {},
   "outputs": [
    {
     "name": "stdout",
     "output_type": "stream",
     "text": [
      "hello\n",
      "hello\n"
     ]
    }
   ],
   "source": [
    "position = 1\n",
    "print(actions[np.argmax(res[position])])\n",
    "print(actions[np.argmax(y_test[position])])"
   ]
  },
  {
   "cell_type": "code",
   "execution_count": 38,
   "metadata": {},
   "outputs": [],
   "source": [
    "model.save(\"action.h5\")\n",
    "# del model\n",
    "model.load_weights(\"action.h5\")"
   ]
  },
  {
   "cell_type": "code",
   "execution_count": 43,
   "metadata": {},
   "outputs": [
    {
     "name": "stdout",
     "output_type": "stream",
     "text": [
      "INFO:tensorflow:Assets written to: C:\\Users\\meetb\\AppData\\Local\\Temp\\tmptdfr1r91\\assets\n"
     ]
    },
    {
     "name": "stderr",
     "output_type": "stream",
     "text": [
      "INFO:tensorflow:Assets written to: C:\\Users\\meetb\\AppData\\Local\\Temp\\tmptdfr1r91\\assets\n"
     ]
    },
    {
     "data": {
      "text/plain": [
       "233952"
      ]
     },
     "execution_count": 43,
     "metadata": {},
     "output_type": "execute_result"
    }
   ],
   "source": [
    "model = load_model('action.h5')\n",
    "\n",
    "converter = lite.TFLiteConverter.from_keras_model(model)\n",
    "converter.optimizations = [tf.lite.Optimize.DEFAULT]\n",
    "converter.experimental_new_converter=True\n",
    "converter.target_spec.supported_ops = [tf.lite.OpsSet.TFLITE_BUILTINS, tf.lite.OpsSet.SELECT_TF_OPS]\n",
    "\n",
    "tflite_model = converter.convert()\n",
    "open(\"action.tflite\", \"wb\").write(tflite_model)"
   ]
  },
  {
   "cell_type": "code",
   "execution_count": 39,
   "metadata": {},
   "outputs": [
    {
     "name": "stdout",
     "output_type": "stream",
     "text": [
      "1/1 [==============================] - 0s 34ms/step\n"
     ]
    },
    {
     "data": {
      "text/plain": [
       "array([[[1, 0],\n",
       "        [0, 1]],\n",
       "\n",
       "       [[1, 0],\n",
       "        [0, 1]]], dtype=int64)"
      ]
     },
     "execution_count": 39,
     "metadata": {},
     "output_type": "execute_result"
    }
   ],
   "source": [
    "yhat = model.predict(X_test)\n",
    "ytrue = np.argmax(y_test, axis=1).tolist()\n",
    "yhat = np.argmax(yhat, axis=1).tolist()\n",
    "\n",
    "multilabel_confusion_matrix(ytrue, yhat)"
   ]
  },
  {
   "cell_type": "code",
   "execution_count": 40,
   "metadata": {},
   "outputs": [
    {
     "data": {
      "text/plain": [
       "1.0"
      ]
     },
     "execution_count": 40,
     "metadata": {},
     "output_type": "execute_result"
    }
   ],
   "source": [
    "accuracy_score(ytrue, yhat)"
   ]
  }
 ],
 "metadata": {
  "kernelspec": {
   "display_name": "Python 3.10.6 64-bit",
   "language": "python",
   "name": "python3"
  },
  "language_info": {
   "codemirror_mode": {
    "name": "ipython",
    "version": 3
   },
   "file_extension": ".py",
   "mimetype": "text/x-python",
   "name": "python",
   "nbconvert_exporter": "python",
   "pygments_lexer": "ipython3",
   "version": "3.10.6"
  },
  "orig_nbformat": 4,
  "vscode": {
   "interpreter": {
    "hash": "7ce6ccc11a83bc9bed0c17f1af93ce616e6495f116eabf1a0084cc277f1779e4"
   }
  }
 },
 "nbformat": 4,
 "nbformat_minor": 2
}
