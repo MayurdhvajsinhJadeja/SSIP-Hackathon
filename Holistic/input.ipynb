{
 "cells": [
  {
   "cell_type": "code",
   "execution_count": null,
   "metadata": {},
   "outputs": [],
   "source": [
    "# !pip install tensorflow==2.4.1 tensorflow-gpu==2.4.1 opencv-python mediapipe sklearn matplotlib"
   ]
  },
  {
   "cell_type": "code",
   "execution_count": 4,
   "metadata": {},
   "outputs": [],
   "source": [
    "import cv2\n",
    "import numpy as np\n",
    "import os\n",
    "from matplotlib import pyplot as plt\n",
    "import time\n",
    "import mediapipe as mp\n",
    "\n",
    "import tensorflow as tf\n",
    "from tensorflow import keras,lite\n",
    "\n",
    "from keras.models import load_model\n",
    "from keras.models import Sequential\n",
    "from keras.layers import LSTM, Dense\n",
    "from keras.callbacks import TensorBoard\n",
    "\n",
    "from sklearn.model_selection import train_test_split\n",
    "from keras.utils import to_categorical\n",
    "\n",
    "from sklearn.metrics import multilabel_confusion_matrix, accuracy_score"
   ]
  },
  {
   "cell_type": "code",
   "execution_count": 5,
   "metadata": {},
   "outputs": [],
   "source": [
    "mp_holistic = mp.solutions.holistic # Holistic model\n",
    "mp_drawing = mp.solutions.drawing_utils # Drawing utilities\n",
    "\n",
    "def mediapipe_detection(image, model):\n",
    "    image = cv2.cvtColor(image, cv2.COLOR_BGR2RGB) # COLOR CONVERSION BGR 2 RGB\n",
    "    image.flags.writeable = False                  # Image is no longer writeable\n",
    "    results = model.process(image)                 # Make prediction\n",
    "    image.flags.writeable = True                   # Image is now writeable \n",
    "    image = cv2.cvtColor(image, cv2.COLOR_RGB2BGR) # COLOR COVERSION RGB 2 BGR\n",
    "    return image, results\n",
    "\n",
    "def draw_landmarks(image, results):\n",
    "    # mp_drawing.draw_landmarks(image, results.face_landmarks, mp_holistic.FACEMESH_CONTOURS) # Draw face connections\n",
    "    mp_drawing.draw_landmarks(image, results.pose_landmarks, mp_holistic.POSE_CONNECTIONS) # Draw pose connections\n",
    "    mp_drawing.draw_landmarks(image, results.left_hand_landmarks, mp_holistic.HAND_CONNECTIONS) # Draw left hand connections\n",
    "    mp_drawing.draw_landmarks(image, results.right_hand_landmarks, mp_holistic.HAND_CONNECTIONS) # Draw right hand connections\n",
    "    \n",
    "def draw_styled_landmarks(image, results):\n",
    "    # Draw face connections\n",
    "    # mp_drawing.draw_landmarks(image, results.face_landmarks, mp_holistic.FACEMESH_CONTOURS, \n",
    "    #                          mp_drawing.DrawingSpec(color=(80,110,10), thickness=1, circle_radius=1), \n",
    "    #                          mp_drawing.DrawingSpec(color=(80,256,121), thickness=1, circle_radius=1)\n",
    "    #                          ) \n",
    "    # Draw pose connections\n",
    "    mp_drawing.draw_landmarks(image, results.pose_landmarks, mp_holistic.POSE_CONNECTIONS,\n",
    "                             mp_drawing.DrawingSpec(color=(80,22,10), thickness=2, circle_radius=4), \n",
    "                             mp_drawing.DrawingSpec(color=(80,44,121), thickness=2, circle_radius=2)\n",
    "                             ) \n",
    "    # Draw left hand connections\n",
    "    mp_drawing.draw_landmarks(image, results.left_hand_landmarks, mp_holistic.HAND_CONNECTIONS, \n",
    "                             mp_drawing.DrawingSpec(color=(121,22,76), thickness=2, circle_radius=4), \n",
    "                             mp_drawing.DrawingSpec(color=(121,44,250), thickness=2, circle_radius=2)\n",
    "                             ) \n",
    "    # Draw right hand connections  \n",
    "    mp_drawing.draw_landmarks(image, results.right_hand_landmarks, mp_holistic.HAND_CONNECTIONS, \n",
    "                             mp_drawing.DrawingSpec(color=(245,117,66), thickness=2, circle_radius=4), \n",
    "                             mp_drawing.DrawingSpec(color=(245,66,230), thickness=2, circle_radius=2)\n",
    "                             )\n",
    "    \n",
    "    \n",
    "def extract_keypoints(results):\n",
    "    pose = np.array([[res.x, res.y, res.z, res.visibility] for res in results.pose_landmarks.landmark]).flatten() if results.pose_landmarks else np.zeros(33*4)\n",
    "    \n",
    "    # face = np.array([[res.x, res.y, res.z] for res in results.face_landmarks.landmark]).flatten() if results.face_landmarks else np.zeros(468*3)\n",
    "    \n",
    "    lh = np.array([[res.x, res.y, res.z] for res in results.left_hand_landmarks.landmark]).flatten() if results.left_hand_landmarks else np.zeros(21*3)\n",
    "    \n",
    "    rh = np.array([[res.x, res.y, res.z] for res in results.right_hand_landmarks.landmark]).flatten() if results.right_hand_landmarks else np.zeros(21*3)\n",
    "    \n",
    "    return np.concatenate([pose, lh, rh])\n",
    "    # return np.concatenate([pose, face, lh, rh])"
   ]
  },
  {
   "cell_type": "code",
   "execution_count": 10,
   "metadata": {},
   "outputs": [],
   "source": [
    "# Path for exported data, numpy arrays\n",
    "DATA_PATH = os.path.join(\"MP_Data\")\n",
    "\n",
    "# Actions that we try to detect\n",
    "# actions = np.array([\"hello\"])\n",
    "actions = np.array(['hello', 'hii', 'by'])\n",
    "# actions = np.array(['yes','no','hello','okay','good','peace'])\n",
    "\n",
    "# Thirty videos worth of data\n",
    "# no_sequences = 10\n",
    "no_sequences = 30\n",
    "\n",
    "# Videos are going to be 30 frames in length\n",
    "# sequence_length = 10\n",
    "sequence_length = 30\n",
    "\n",
    "# Folder start\n",
    "start_folder = 1"
   ]
  },
  {
   "cell_type": "code",
   "execution_count": 11,
   "metadata": {},
   "outputs": [],
   "source": [
    "for action in actions:\n",
    "    # dirmax = np.max(np.array(os.listdir(os.path.join(DATA_PATH, action))).astype(int))\n",
    "    for sequence in range(0, no_sequences):\n",
    "        try:\n",
    "            os.makedirs(os.path.join(DATA_PATH, action, str(sequence)))\n",
    "            # os.makedirs(os.path.join(DATA_PATH, action, str(dirmax + sequence)))\n",
    "        except:\n",
    "            pass"
   ]
  },
  {
   "cell_type": "code",
   "execution_count": 45,
   "metadata": {},
   "outputs": [],
   "source": [
    "try:\n",
    "    cap = cv2.VideoCapture(0)\n",
    "    # Set mediapipe model \n",
    "    with mp_holistic.Holistic(min_detection_confidence=0.5, min_tracking_confidence=0.5) as holistic:\n",
    "        \n",
    "        # NEW LOOP\n",
    "        # Loop through actions\n",
    "        for action in actions:\n",
    "            # Loop through sequences aka videos\n",
    "            for sequence in range(no_sequences):\n",
    "                # Loop through video length aka sequence length\n",
    "                for frame_num in range(sequence_length):\n",
    "\n",
    "                    # Read feed\n",
    "                    ret, frame = cap.read()\n",
    "\n",
    "                    # Make detections\n",
    "                    image, results = mediapipe_detection(frame, holistic)\n",
    "\n",
    "                    # Draw landmarks\n",
    "                    draw_styled_landmarks(image, results)\n",
    "                    \n",
    "                    # NEW Apply wait logic\n",
    "                    if frame_num == 0: \n",
    "                        cv2.putText(image, 'STARTING COLLECTION', (120,200), \n",
    "                                cv2.FONT_HERSHEY_SIMPLEX, 1, (0,255, 0), 4, cv2.LINE_AA)\n",
    "                        cv2.putText(image, 'Collecting frames for {} Video Number {}'.format(action, sequence), (15,12), \n",
    "                                cv2.FONT_HERSHEY_SIMPLEX, 0.5, (0, 0, 255), 1, cv2.LINE_AA)\n",
    "                        # Show to screen\n",
    "                        cv2.imshow('OpenCV Feed', image)\n",
    "                        cv2.waitKey(500)\n",
    "                    else: \n",
    "                        cv2.putText(image, 'Collecting frames for {} Video Number {}'.format(action, sequence), (15,12), \n",
    "                                cv2.FONT_HERSHEY_SIMPLEX, 0.5, (0, 0, 255), 1, cv2.LINE_AA)\n",
    "                        # Show to screen\n",
    "                        cv2.imshow('OpenCV Feed', image)\n",
    "                    \n",
    "                    # NEW Export keypoints\n",
    "                    keypoints = extract_keypoints(results)\n",
    "                    npy_path = os.path.join(DATA_PATH, action, str(sequence), str(frame_num))\n",
    "                    np.save(npy_path, keypoints)\n",
    "\n",
    "                    # Break gracefully\n",
    "                    if cv2.waitKey(10) & 0xFF == ord('q'):\n",
    "                        break\n",
    "                        \n",
    "        cap.release()\n",
    "        cv2.destroyAllWindows()\n",
    "        \n",
    "finally:\n",
    "    cap.release()\n",
    "    cv2.destroyAllWindows()"
   ]
  },
  {
   "cell_type": "code",
   "execution_count": 46,
   "metadata": {},
   "outputs": [
    {
     "name": "stdout",
     "output_type": "stream",
     "text": [
      "{'hello': 0, 'hii': 1, 'by': 2}\n"
     ]
    }
   ],
   "source": [
    "label_map = {label: num for num, label in enumerate(actions)}\n",
    "print(label_map)"
   ]
  },
  {
   "cell_type": "code",
   "execution_count": 47,
   "metadata": {},
   "outputs": [],
   "source": [
    "sequences, labels = [], []\n",
    "for action in actions:\n",
    "    for sequence in np.array(os.listdir(os.path.join(DATA_PATH, action))).astype(int):\n",
    "        window = []\n",
    "        for frame_num in range(sequence_length):\n",
    "            res = np.load(os.path.join(DATA_PATH, action, str(sequence), \"{}.npy\".format(frame_num)))\n",
    "            window.append(res)\n",
    "        sequences.append(window)\n",
    "        labels.append(label_map[action])"
   ]
  },
  {
   "cell_type": "code",
   "execution_count": 48,
   "metadata": {},
   "outputs": [
    {
     "name": "stdout",
     "output_type": "stream",
     "text": [
      "(30, 30, 258)\n",
      "(30,)\n",
      "(30, 30, 258)\n",
      "(2, 3)\n"
     ]
    }
   ],
   "source": [
    "# print(sequences)\n",
    "print(np.array(sequences).shape)\n",
    "print(np.array(labels).shape)\n",
    "\n",
    "X = np.array(sequences)\n",
    "print(X.shape)\n",
    "\n",
    "y = to_categorical(labels).astype(int)\n",
    "X_train, X_test, y_train, y_test = train_test_split(X, y, test_size=0.05)\n",
    "print(y_test.shape)"
   ]
  },
  {
   "cell_type": "code",
   "execution_count": 49,
   "metadata": {},
   "outputs": [],
   "source": [
    "log_dir = os.path.join('Logs')\n",
    "tb_callback = TensorBoard(log_dir=log_dir)\n",
    "\n",
    "model = Sequential()\n",
    "model.add(LSTM(64, return_sequences=True, activation='relu', input_shape=(sequence_length,X.shape[2])))\n",
    "model.add(LSTM(128, return_sequences=True, activation='relu'))\n",
    "model.add(LSTM(64, return_sequences=False, activation='relu'))\n",
    "model.add(Dense(64, activation='relu'))\n",
    "model.add(Dense(32, activation='relu'))\n",
    "model.add(Dense(actions.shape[0], activation='softmax')) # output layer\n",
    "\n",
    "model.compile(optimizer='Adam', loss='categorical_crossentropy', metrics=['categorical_accuracy'])"
   ]
  },
  {
   "cell_type": "code",
   "execution_count": 50,
   "metadata": {},
   "outputs": [
    {
     "name": "stdout",
     "output_type": "stream",
     "text": [
      "Model: \"sequential_1\"\n",
      "_________________________________________________________________\n",
      " Layer (type)                Output Shape              Param #   \n",
      "=================================================================\n",
      " lstm_3 (LSTM)               (None, 30, 64)            82688     \n",
      "                                                                 \n",
      " lstm_4 (LSTM)               (None, 30, 128)           98816     \n",
      "                                                                 \n",
      " lstm_5 (LSTM)               (None, 64)                49408     \n",
      "                                                                 \n",
      " dense_3 (Dense)             (None, 64)                4160      \n",
      "                                                                 \n",
      " dense_4 (Dense)             (None, 32)                2080      \n",
      "                                                                 \n",
      " dense_5 (Dense)             (None, 3)                 99        \n",
      "                                                                 \n",
      "=================================================================\n",
      "Total params: 237,251\n",
      "Trainable params: 237,251\n",
      "Non-trainable params: 0\n",
      "_________________________________________________________________\n"
     ]
    }
   ],
   "source": [
    "model.summary()\n",
    "# del model"
   ]
  },
  {
   "cell_type": "code",
   "execution_count": 69,
   "metadata": {},
   "outputs": [
    {
     "name": "stdout",
     "output_type": "stream",
     "text": [
      "Epoch 1/70\n",
      "1/1 [==============================] - 1s 530ms/step - loss: 0.7276 - categorical_accuracy: 0.7143\n",
      "Epoch 2/70\n",
      "1/1 [==============================] - 0s 274ms/step - loss: 3.0988 - categorical_accuracy: 0.3571\n",
      "Epoch 3/70\n",
      "1/1 [==============================] - 0s 240ms/step - loss: 1.4902 - categorical_accuracy: 0.3214\n",
      "Epoch 4/70\n",
      "1/1 [==============================] - 0s 298ms/step - loss: 1.3917 - categorical_accuracy: 0.3214\n",
      "Epoch 5/70\n",
      "1/1 [==============================] - 0s 251ms/step - loss: 1.1515 - categorical_accuracy: 0.2857\n",
      "Epoch 6/70\n",
      "1/1 [==============================] - 0s 267ms/step - loss: 1.1047 - categorical_accuracy: 0.3214\n",
      "Epoch 7/70\n",
      "1/1 [==============================] - 0s 253ms/step - loss: 1.1002 - categorical_accuracy: 0.3214\n",
      "Epoch 8/70\n",
      "1/1 [==============================] - 0s 262ms/step - loss: 1.0995 - categorical_accuracy: 0.3571\n",
      "Epoch 9/70\n",
      "1/1 [==============================] - 0s 274ms/step - loss: 1.0990 - categorical_accuracy: 0.3571\n",
      "Epoch 10/70\n",
      "1/1 [==============================] - 0s 283ms/step - loss: 1.0991 - categorical_accuracy: 0.3571\n",
      "Epoch 11/70\n",
      "1/1 [==============================] - 0s 275ms/step - loss: 1.0991 - categorical_accuracy: 0.3571\n",
      "Epoch 12/70\n",
      "1/1 [==============================] - 0s 217ms/step - loss: 1.0985 - categorical_accuracy: 0.3571\n",
      "Epoch 13/70\n",
      "1/1 [==============================] - 0s 256ms/step - loss: 1.0975 - categorical_accuracy: 0.3571\n",
      "Epoch 14/70\n",
      "1/1 [==============================] - 0s 293ms/step - loss: 1.0962 - categorical_accuracy: 0.3571\n",
      "Epoch 15/70\n",
      "1/1 [==============================] - 0s 297ms/step - loss: 1.0951 - categorical_accuracy: 0.3571\n",
      "Epoch 16/70\n",
      "1/1 [==============================] - 0s 395ms/step - loss: 1.0940 - categorical_accuracy: 0.3571\n",
      "Epoch 17/70\n",
      "1/1 [==============================] - 0s 360ms/step - loss: 1.0929 - categorical_accuracy: 0.3571\n",
      "Epoch 18/70\n",
      "1/1 [==============================] - 0s 259ms/step - loss: 1.0917 - categorical_accuracy: 0.3571\n",
      "Epoch 19/70\n",
      "1/1 [==============================] - 0s 305ms/step - loss: 1.0901 - categorical_accuracy: 0.3571\n",
      "Epoch 20/70\n",
      "1/1 [==============================] - 0s 378ms/step - loss: 1.0877 - categorical_accuracy: 0.3571\n",
      "Epoch 21/70\n",
      "1/1 [==============================] - 0s 267ms/step - loss: 1.0833 - categorical_accuracy: 0.3571\n",
      "Epoch 22/70\n",
      "1/1 [==============================] - 0s 271ms/step - loss: 1.0767 - categorical_accuracy: 0.3571\n",
      "Epoch 23/70\n",
      "1/1 [==============================] - 0s 337ms/step - loss: 1.0649 - categorical_accuracy: 0.4286\n",
      "Epoch 24/70\n",
      "1/1 [==============================] - 0s 286ms/step - loss: 1.0411 - categorical_accuracy: 0.6429\n",
      "Epoch 25/70\n",
      "1/1 [==============================] - 0s 216ms/step - loss: 0.9841 - categorical_accuracy: 0.5714\n",
      "Epoch 26/70\n",
      "1/1 [==============================] - 0s 316ms/step - loss: 0.9118 - categorical_accuracy: 0.3929\n",
      "Epoch 27/70\n",
      "1/1 [==============================] - 0s 309ms/step - loss: 1.0101 - categorical_accuracy: 0.3929\n",
      "Epoch 28/70\n",
      "1/1 [==============================] - 0s 275ms/step - loss: 0.9417 - categorical_accuracy: 0.7143\n",
      "Epoch 29/70\n",
      "1/1 [==============================] - 0s 249ms/step - loss: 1.0212 - categorical_accuracy: 0.6786\n",
      "Epoch 30/70\n",
      "1/1 [==============================] - 0s 321ms/step - loss: 1.0513 - categorical_accuracy: 0.4643\n",
      "Epoch 31/70\n",
      "1/1 [==============================] - 0s 318ms/step - loss: 1.0631 - categorical_accuracy: 0.4286\n",
      "Epoch 32/70\n",
      "1/1 [==============================] - 0s 285ms/step - loss: 1.0601 - categorical_accuracy: 0.4286\n",
      "Epoch 33/70\n",
      "1/1 [==============================] - 0s 321ms/step - loss: 1.0460 - categorical_accuracy: 0.5714\n",
      "Epoch 34/70\n",
      "1/1 [==============================] - 0s 422ms/step - loss: 1.0133 - categorical_accuracy: 0.6071\n",
      "Epoch 35/70\n",
      "1/1 [==============================] - 0s 299ms/step - loss: 0.9200 - categorical_accuracy: 0.6071\n",
      "Epoch 36/70\n",
      "1/1 [==============================] - 0s 263ms/step - loss: 0.8121 - categorical_accuracy: 0.5714\n",
      "Epoch 37/70\n",
      "1/1 [==============================] - 0s 305ms/step - loss: 1.0094 - categorical_accuracy: 0.4286\n",
      "Epoch 38/70\n",
      "1/1 [==============================] - 0s 339ms/step - loss: 0.8491 - categorical_accuracy: 0.6786\n",
      "Epoch 39/70\n",
      "1/1 [==============================] - 0s 244ms/step - loss: 0.9607 - categorical_accuracy: 0.6429\n",
      "Epoch 40/70\n",
      "1/1 [==============================] - 0s 368ms/step - loss: 1.0017 - categorical_accuracy: 0.6429\n",
      "Epoch 41/70\n",
      "1/1 [==============================] - 0s 298ms/step - loss: 1.0114 - categorical_accuracy: 0.6071\n",
      "Epoch 42/70\n",
      "1/1 [==============================] - 0s 275ms/step - loss: 0.9985 - categorical_accuracy: 0.6429\n",
      "Epoch 43/70\n",
      "1/1 [==============================] - 0s 298ms/step - loss: 0.9612 - categorical_accuracy: 0.6786\n",
      "Epoch 44/70\n",
      "1/1 [==============================] - 0s 274ms/step - loss: 0.8934 - categorical_accuracy: 0.7143\n",
      "Epoch 45/70\n",
      "1/1 [==============================] - 0s 268ms/step - loss: 0.8209 - categorical_accuracy: 0.5714\n",
      "Epoch 46/70\n",
      "1/1 [==============================] - 0s 296ms/step - loss: 1.0365 - categorical_accuracy: 0.3929\n",
      "Epoch 47/70\n",
      "1/1 [==============================] - 0s 305ms/step - loss: 0.8150 - categorical_accuracy: 0.6786\n",
      "Epoch 48/70\n",
      "1/1 [==============================] - 0s 295ms/step - loss: 0.8786 - categorical_accuracy: 0.6786\n",
      "Epoch 49/70\n",
      "1/1 [==============================] - 0s 272ms/step - loss: 0.9230 - categorical_accuracy: 0.6786\n",
      "Epoch 50/70\n",
      "1/1 [==============================] - 0s 296ms/step - loss: 0.9267 - categorical_accuracy: 0.6786\n",
      "Epoch 51/70\n",
      "1/1 [==============================] - 0s 295ms/step - loss: 0.8869 - categorical_accuracy: 0.6786\n",
      "Epoch 52/70\n",
      "1/1 [==============================] - 0s 270ms/step - loss: 0.8125 - categorical_accuracy: 0.6786\n",
      "Epoch 53/70\n",
      "1/1 [==============================] - 0s 282ms/step - loss: 0.7999 - categorical_accuracy: 0.7143\n",
      "Epoch 54/70\n",
      "1/1 [==============================] - 0s 318ms/step - loss: 0.8183 - categorical_accuracy: 0.5357\n",
      "Epoch 55/70\n",
      "1/1 [==============================] - 0s 283ms/step - loss: 0.8093 - categorical_accuracy: 0.5714\n",
      "Epoch 56/70\n",
      "1/1 [==============================] - 0s 320ms/step - loss: 0.7545 - categorical_accuracy: 0.7143\n",
      "Epoch 57/70\n",
      "1/1 [==============================] - 0s 297ms/step - loss: 0.7434 - categorical_accuracy: 0.7500\n",
      "Epoch 58/70\n",
      "1/1 [==============================] - 0s 294ms/step - loss: 0.7650 - categorical_accuracy: 0.7500\n",
      "Epoch 59/70\n",
      "1/1 [==============================] - 0s 319ms/step - loss: 0.7585 - categorical_accuracy: 0.7500\n",
      "Epoch 60/70\n",
      "1/1 [==============================] - 0s 330ms/step - loss: 0.7269 - categorical_accuracy: 0.6786\n",
      "Epoch 61/70\n",
      "1/1 [==============================] - 0s 320ms/step - loss: 0.7123 - categorical_accuracy: 0.7143\n",
      "Epoch 62/70\n",
      "1/1 [==============================] - 0s 306ms/step - loss: 0.7259 - categorical_accuracy: 0.7143\n",
      "Epoch 63/70\n",
      "1/1 [==============================] - 0s 314ms/step - loss: 0.7063 - categorical_accuracy: 0.7500\n",
      "Epoch 64/70\n",
      "1/1 [==============================] - 0s 308ms/step - loss: 0.6809 - categorical_accuracy: 0.7500\n",
      "Epoch 65/70\n",
      "1/1 [==============================] - 0s 308ms/step - loss: 0.6743 - categorical_accuracy: 0.7500\n",
      "Epoch 66/70\n",
      "1/1 [==============================] - 0s 401ms/step - loss: 0.6604 - categorical_accuracy: 0.7500\n",
      "Epoch 67/70\n",
      "1/1 [==============================] - 0s 291ms/step - loss: 0.6229 - categorical_accuracy: 0.7857\n",
      "Epoch 68/70\n",
      "1/1 [==============================] - 0s 277ms/step - loss: 0.8489 - categorical_accuracy: 0.6786\n",
      "Epoch 69/70\n",
      "1/1 [==============================] - 0s 249ms/step - loss: 0.9655 - categorical_accuracy: 0.5714\n",
      "Epoch 70/70\n",
      "1/1 [==============================] - 0s 274ms/step - loss: 0.6481 - categorical_accuracy: 0.7857\n"
     ]
    },
    {
     "data": {
      "text/plain": [
       "<keras.callbacks.History at 0x2bc57b614e0>"
      ]
     },
     "execution_count": 69,
     "metadata": {},
     "output_type": "execute_result"
    }
   ],
   "source": [
    "model.fit(X_train, y_train, epochs=70, callbacks=[tb_callback])"
   ]
  },
  {
   "cell_type": "code",
   "execution_count": 70,
   "metadata": {},
   "outputs": [
    {
     "name": "stdout",
     "output_type": "stream",
     "text": [
      "1/1 [==============================] - 0s 57ms/step\n"
     ]
    },
    {
     "data": {
      "text/plain": [
       "array([[0.0000000e+00, 1.0000000e+00, 5.7245643e-37],\n",
       "       [2.7145529e-01, 2.7514720e-01, 4.5339748e-01]], dtype=float32)"
      ]
     },
     "execution_count": 70,
     "metadata": {},
     "output_type": "execute_result"
    }
   ],
   "source": [
    "res = model.predict(X_test)\n",
    "res"
   ]
  },
  {
   "cell_type": "code",
   "execution_count": 72,
   "metadata": {},
   "outputs": [
    {
     "name": "stdout",
     "output_type": "stream",
     "text": [
      "by\n",
      "by\n"
     ]
    }
   ],
   "source": [
    "position = 1\n",
    "print(actions[np.argmax(res[position])])\n",
    "print(actions[np.argmax(y_test[position])])"
   ]
  },
  {
   "cell_type": "code",
   "execution_count": 73,
   "metadata": {},
   "outputs": [],
   "source": [
    "model.save(\"action.h5\")\n",
    "#del model\n",
    "model.load_weights(\"action.h5\")"
   ]
  },
  {
   "cell_type": "code",
   "execution_count": null,
   "metadata": {},
   "outputs": [],
   "source": [
    "model = load_model('action.h5')\n",
    "\n",
    "converter = lite.TFLiteConverter.from_keras_model(model)\n",
    "converter.optimizations = [tf.lite.Optimize.DEFAULT]\n",
    "converter.experimental_new_converter=True\n",
    "converter.target_spec.supported_ops = [tf.lite.OpsSet.TFLITE_BUILTINS, tf.lite.OpsSet.SELECT_TF_OPS]\n",
    "\n",
    "tflite_model = converter.convert()\n",
    "open(\"action.tflite\", \"wb\").write(tflite_model)"
   ]
  },
  {
   "cell_type": "code",
   "execution_count": 74,
   "metadata": {},
   "outputs": [
    {
     "name": "stdout",
     "output_type": "stream",
     "text": [
      "1/1 [==============================] - 0s 44ms/step\n"
     ]
    },
    {
     "data": {
      "text/plain": [
       "array([[[1, 0],\n",
       "        [0, 1]],\n",
       "\n",
       "       [[1, 0],\n",
       "        [0, 1]]], dtype=int64)"
      ]
     },
     "execution_count": 74,
     "metadata": {},
     "output_type": "execute_result"
    }
   ],
   "source": [
    "yhat = model.predict(X_test)\n",
    "ytrue = np.argmax(y_test, axis=1).tolist()\n",
    "yhat = np.argmax(yhat, axis=1).tolist()\n",
    "\n",
    "multilabel_confusion_matrix(ytrue, yhat)"
   ]
  },
  {
   "cell_type": "code",
   "execution_count": 75,
   "metadata": {},
   "outputs": [
    {
     "data": {
      "text/plain": [
       "1.0"
      ]
     },
     "execution_count": 75,
     "metadata": {},
     "output_type": "execute_result"
    }
   ],
   "source": [
    "accuracy_score(ytrue, yhat)"
   ]
  }
 ],
 "metadata": {
  "kernelspec": {
   "display_name": "Python 3.10.6 64-bit",
   "language": "python",
   "name": "python3"
  },
  "language_info": {
   "codemirror_mode": {
    "name": "ipython",
    "version": 3
   },
   "file_extension": ".py",
   "mimetype": "text/x-python",
   "name": "python",
   "nbconvert_exporter": "python",
   "pygments_lexer": "ipython3",
   "version": "3.10.6"
  },
  "orig_nbformat": 4,
  "vscode": {
   "interpreter": {
    "hash": "7ce6ccc11a83bc9bed0c17f1af93ce616e6495f116eabf1a0084cc277f1779e4"
   }
  }
 },
 "nbformat": 4,
 "nbformat_minor": 2
}
