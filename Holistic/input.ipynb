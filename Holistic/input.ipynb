{
 "cells": [
  {
   "cell_type": "code",
   "execution_count": null,
   "metadata": {},
   "outputs": [],
   "source": [
    "# !pip install tensorflow==2.4.1 tensorflow-gpu==2.4.1 opencv-python mediapipe sklearn matplotlib"
   ]
  },
  {
   "cell_type": "code",
   "execution_count": 4,
   "metadata": {},
   "outputs": [],
   "source": [
    "import cv2\n",
    "import numpy as np\n",
    "import os\n",
    "from matplotlib import pyplot as plt\n",
    "import time\n",
    "import mediapipe as mp\n",
    "\n",
    "import tensorflow as tf\n",
    "from tensorflow import keras,lite\n",
    "\n",
    "from keras.models import load_model\n",
    "from keras.models import Sequential\n",
    "from keras.layers import LSTM, Dense\n",
    "from keras.callbacks import TensorBoard\n",
    "\n",
    "from sklearn.model_selection import train_test_split\n",
    "from keras.utils import to_categorical\n",
    "\n",
    "from sklearn.metrics import multilabel_confusion_matrix, accuracy_score"
   ]
  },
  {
   "cell_type": "code",
   "execution_count": 5,
   "metadata": {},
   "outputs": [],
   "source": [
    "mp_holistic = mp.solutions.holistic # Holistic model\n",
    "mp_drawing = mp.solutions.drawing_utils # Drawing utilities\n",
    "\n",
    "def mediapipe_detection(image, model):\n",
    "    image = cv2.cvtColor(image, cv2.COLOR_BGR2RGB) # COLOR CONVERSION BGR 2 RGB\n",
    "    image.flags.writeable = False                  # Image is no longer writeable\n",
    "    results = model.process(image)                 # Make prediction\n",
    "    image.flags.writeable = True                   # Image is now writeable \n",
    "    image = cv2.cvtColor(image, cv2.COLOR_RGB2BGR) # COLOR COVERSION RGB 2 BGR\n",
    "    return image, results\n",
    "\n",
    "def draw_landmarks(image, results):\n",
    "    # mp_drawing.draw_landmarks(image, results.face_landmarks, mp_holistic.FACEMESH_CONTOURS) # Draw face connections\n",
    "    mp_drawing.draw_landmarks(image, results.pose_landmarks, mp_holistic.POSE_CONNECTIONS) # Draw pose connections\n",
    "    mp_drawing.draw_landmarks(image, results.left_hand_landmarks, mp_holistic.HAND_CONNECTIONS) # Draw left hand connections\n",
    "    mp_drawing.draw_landmarks(image, results.right_hand_landmarks, mp_holistic.HAND_CONNECTIONS) # Draw right hand connections\n",
    "    \n",
    "def draw_styled_landmarks(image, results):\n",
    "    # Draw face connections\n",
    "    # mp_drawing.draw_landmarks(image, results.face_landmarks, mp_holistic.FACEMESH_CONTOURS, \n",
    "    #                          mp_drawing.DrawingSpec(color=(80,110,10), thickness=1, circle_radius=1), \n",
    "    #                          mp_drawing.DrawingSpec(color=(80,256,121), thickness=1, circle_radius=1)\n",
    "    #                          ) \n",
    "    # Draw pose connections\n",
    "    mp_drawing.draw_landmarks(image, results.pose_landmarks, mp_holistic.POSE_CONNECTIONS,\n",
    "                             mp_drawing.DrawingSpec(color=(80,22,10), thickness=2, circle_radius=4), \n",
    "                             mp_drawing.DrawingSpec(color=(80,44,121), thickness=2, circle_radius=2)\n",
    "                             ) \n",
    "    # Draw left hand connections\n",
    "    mp_drawing.draw_landmarks(image, results.left_hand_landmarks, mp_holistic.HAND_CONNECTIONS, \n",
    "                             mp_drawing.DrawingSpec(color=(121,22,76), thickness=2, circle_radius=4), \n",
    "                             mp_drawing.DrawingSpec(color=(121,44,250), thickness=2, circle_radius=2)\n",
    "                             ) \n",
    "    # Draw right hand connections  \n",
    "    mp_drawing.draw_landmarks(image, results.right_hand_landmarks, mp_holistic.HAND_CONNECTIONS, \n",
    "                             mp_drawing.DrawingSpec(color=(245,117,66), thickness=2, circle_radius=4), \n",
    "                             mp_drawing.DrawingSpec(color=(245,66,230), thickness=2, circle_radius=2)\n",
    "                             )\n",
    "    \n",
    "    \n",
    "def extract_keypoints(results):\n",
    "    pose = np.array([[res.x, res.y, res.z, res.visibility] for res in results.pose_landmarks.landmark]).flatten() if results.pose_landmarks else np.zeros(33*4)\n",
    "    \n",
    "    # face = np.array([[res.x, res.y, res.z] for res in results.face_landmarks.landmark]).flatten() if results.face_landmarks else np.zeros(468*3)\n",
    "    \n",
    "    lh = np.array([[res.x, res.y, res.z] for res in results.left_hand_landmarks.landmark]).flatten() if results.left_hand_landmarks else np.zeros(21*3)\n",
    "    \n",
    "    rh = np.array([[res.x, res.y, res.z] for res in results.right_hand_landmarks.landmark]).flatten() if results.right_hand_landmarks else np.zeros(21*3)\n",
    "    \n",
    "    return np.concatenate([pose, lh, rh])\n",
    "    # return np.concatenate([pose, face, lh, rh])"
   ]
  },
  {
   "cell_type": "code",
   "execution_count": 10,
   "metadata": {},
   "outputs": [],
   "source": [
    "# Path for exported data, numpy arrays\n",
    "DATA_PATH = os.path.join(\"MP_Data\")\n",
    "\n",
    "# Actions that we try to detect\n",
    "# actions = np.array([\"hello\"])\n",
    "actions = np.array(['hello', 'hii', 'by'])\n",
    "# actions = np.array(['yes','no','hello','okay','good','peace'])\n",
    "\n",
    "# Thirty videos worth of data\n",
    "# no_sequences = 10\n",
    "no_sequences = 30\n",
    "\n",
    "# Videos are going to be 30 frames in length\n",
    "# sequence_length = 10\n",
    "sequence_length = 30\n",
    "\n",
    "# Folder start\n",
    "start_folder = 1"
   ]
  },
  {
   "cell_type": "code",
   "execution_count": 11,
   "metadata": {},
   "outputs": [],
   "source": [
    "for action in actions:\n",
    "    # dirmax = np.max(np.array(os.listdir(os.path.join(DATA_PATH, action))).astype(int))\n",
    "    for sequence in range(0, no_sequences):\n",
    "        try:\n",
    "            os.makedirs(os.path.join(DATA_PATH, action, str(sequence)))\n",
    "            # os.makedirs(os.path.join(DATA_PATH, action, str(dirmax + sequence)))\n",
    "        except:\n",
    "            pass"
   ]
  },
  {
   "cell_type": "code",
   "execution_count": 45,
   "metadata": {},
   "outputs": [],
   "source": [
    "try:\n",
    "    cap = cv2.VideoCapture(0)\n",
    "    # Set mediapipe model \n",
    "    with mp_holistic.Holistic(min_detection_confidence=0.5, min_tracking_confidence=0.5) as holistic:\n",
    "        \n",
    "        # NEW LOOP\n",
    "        # Loop through actions\n",
    "        for action in actions:\n",
    "            # Loop through sequences aka videos\n",
    "            for sequence in range(no_sequences):\n",
    "                # Loop through video length aka sequence length\n",
    "                for frame_num in range(sequence_length):\n",
    "\n",
    "                    # Read feed\n",
    "                    ret, frame = cap.read()\n",
    "\n",
    "                    # Make detections\n",
    "                    image, results = mediapipe_detection(frame, holistic)\n",
    "\n",
    "                    # Draw landmarks\n",
    "                    draw_styled_landmarks(image, results)\n",
    "                    \n",
    "                    # NEW Apply wait logic\n",
    "                    if frame_num == 0: \n",
    "                        cv2.putText(image, 'STARTING COLLECTION', (120,200), \n",
    "                                cv2.FONT_HERSHEY_SIMPLEX, 1, (0,255, 0), 4, cv2.LINE_AA)\n",
    "                        cv2.putText(image, 'Collecting frames for {} Video Number {}'.format(action, sequence), (15,12), \n",
    "                                cv2.FONT_HERSHEY_SIMPLEX, 0.5, (0, 0, 255), 1, cv2.LINE_AA)\n",
    "                        # Show to screen\n",
    "                        cv2.imshow('OpenCV Feed', image)\n",
    "                        cv2.waitKey(500)\n",
    "                    else: \n",
    "                        cv2.putText(image, 'Collecting frames for {} Video Number {}'.format(action, sequence), (15,12), \n",
    "                                cv2.FONT_HERSHEY_SIMPLEX, 0.5, (0, 0, 255), 1, cv2.LINE_AA)\n",
    "                        # Show to screen\n",
    "                        cv2.imshow('OpenCV Feed', image)\n",
    "                    \n",
    "                    # NEW Export keypoints\n",
    "                    keypoints = extract_keypoints(results)\n",
    "                    npy_path = os.path.join(DATA_PATH, action, str(sequence), str(frame_num))\n",
    "                    np.save(npy_path, keypoints)\n",
    "\n",
    "                    # Break gracefully\n",
    "                    if cv2.waitKey(10) & 0xFF == ord('q'):\n",
    "                        break\n",
    "                        \n",
    "        cap.release()\n",
    "        cv2.destroyAllWindows()\n",
    "        \n",
    "finally:\n",
    "    cap.release()\n",
    "    cv2.destroyAllWindows()"
   ]
  },
  {
   "cell_type": "code",
   "execution_count": 46,
   "metadata": {},
   "outputs": [
    {
     "name": "stdout",
     "output_type": "stream",
     "text": [
      "{'hello': 0, 'hii': 1, 'by': 2}\n"
     ]
    }
   ],
   "source": [
    "label_map = {label: num for num, label in enumerate(actions)}\n",
    "print(label_map)"
   ]
  },
  {
   "cell_type": "code",
   "execution_count": 47,
   "metadata": {},
   "outputs": [],
   "source": [
    "sequences, labels = [], []\n",
    "for action in actions:\n",
    "    for sequence in np.array(os.listdir(os.path.join(DATA_PATH, action))).astype(int):\n",
    "        window = []\n",
    "        for frame_num in range(sequence_length):\n",
    "            res = np.load(os.path.join(DATA_PATH, action, str(sequence), \"{}.npy\".format(frame_num)))\n",
    "            window.append(res)\n",
    "        sequences.append(window)\n",
    "        labels.append(label_map[action])"
   ]
  },
  {
   "cell_type": "code",
   "execution_count": 48,
   "metadata": {},
   "outputs": [
    {
     "name": "stdout",
     "output_type": "stream",
     "text": [
      "(30, 30, 258)\n",
      "(30,)\n",
      "(30, 30, 258)\n",
      "(2, 3)\n"
     ]
    }
   ],
   "source": [
    "# print(sequences)\n",
    "print(np.array(sequences).shape)\n",
    "print(np.array(labels).shape)\n",
    "\n",
    "X = np.array(sequences)\n",
    "print(X.shape)\n",
    "\n",
    "y = to_categorical(labels).astype(int)\n",
    "X_train, X_test, y_train, y_test = train_test_split(X, y, test_size=0.05)\n",
    "print(y_test.shape)"
   ]
  },
  {
   "cell_type": "code",
   "execution_count": 49,
   "metadata": {},
   "outputs": [],
   "source": [
    "log_dir = os.path.join('Logs')\n",
    "tb_callback = TensorBoard(log_dir=log_dir)\n",
    "\n",
    "model = Sequential()\n",
    "model.add(LSTM(64, return_sequences=True, activation='relu', input_shape=(sequence_length,X.shape[2])))\n",
    "model.add(LSTM(128, return_sequences=True, activation='relu'))\n",
    "model.add(LSTM(64, return_sequences=False, activation='relu'))\n",
    "model.add(Dense(64, activation='relu'))\n",
    "model.add(Dense(32, activation='relu'))\n",
    "model.add(Dense(actions.shape[0], activation='softmax')) # output layer\n",
    "\n",
    "model.compile(optimizer='Adam', loss='categorical_crossentropy', metrics=['categorical_accuracy'])"
   ]
  },
  {
   "cell_type": "code",
   "execution_count": 50,
   "metadata": {},
   "outputs": [
    {
     "name": "stdout",
     "output_type": "stream",
     "text": [
      "Model: \"sequential_1\"\n",
      "_________________________________________________________________\n",
      " Layer (type)                Output Shape              Param #   \n",
      "=================================================================\n",
      " lstm_3 (LSTM)               (None, 30, 64)            82688     \n",
      "                                                                 \n",
      " lstm_4 (LSTM)               (None, 30, 128)           98816     \n",
      "                                                                 \n",
      " lstm_5 (LSTM)               (None, 64)                49408     \n",
      "                                                                 \n",
      " dense_3 (Dense)             (None, 64)                4160      \n",
      "                                                                 \n",
      " dense_4 (Dense)             (None, 32)                2080      \n",
      "                                                                 \n",
      " dense_5 (Dense)             (None, 3)                 99        \n",
      "                                                                 \n",
      "=================================================================\n",
      "Total params: 237,251\n",
      "Trainable params: 237,251\n",
      "Non-trainable params: 0\n",
      "_________________________________________________________________\n"
     ]
    }
   ],
   "source": [
    "model.summary()\n",
    "# del model"
   ]
  },
  {
   "cell_type": "code",
   "execution_count": 51,
   "metadata": {},
   "outputs": [
    {
     "name": "stdout",
     "output_type": "stream",
     "text": [
      "Epoch 1/100\n",
      "1/1 [==============================] - 6s 6s/step - loss: 1.1042 - categorical_accuracy: 0.3214\n",
      "Epoch 2/100\n",
      "1/1 [==============================] - 0s 246ms/step - loss: 1.0925 - categorical_accuracy: 0.3571\n",
      "Epoch 3/100\n",
      "1/1 [==============================] - 0s 296ms/step - loss: 1.1022 - categorical_accuracy: 0.3571\n",
      "Epoch 4/100\n",
      "1/1 [==============================] - 0s 296ms/step - loss: 1.0945 - categorical_accuracy: 0.3571\n",
      "Epoch 5/100\n",
      "1/1 [==============================] - 0s 452ms/step - loss: 1.0650 - categorical_accuracy: 0.3571\n",
      "Epoch 6/100\n",
      "1/1 [==============================] - 0s 293ms/step - loss: 1.2720 - categorical_accuracy: 0.1786\n",
      "Epoch 7/100\n",
      "1/1 [==============================] - 0s 294ms/step - loss: 1.0486 - categorical_accuracy: 0.5357\n",
      "Epoch 8/100\n",
      "1/1 [==============================] - 0s 317ms/step - loss: 1.0799 - categorical_accuracy: 0.4643\n",
      "Epoch 9/100\n",
      "1/1 [==============================] - 0s 286ms/step - loss: 1.0774 - categorical_accuracy: 0.4643\n",
      "Epoch 10/100\n",
      "1/1 [==============================] - 0s 296ms/step - loss: 1.0737 - categorical_accuracy: 0.5357\n",
      "Epoch 11/100\n",
      "1/1 [==============================] - 0s 318ms/step - loss: 1.0598 - categorical_accuracy: 0.4643\n",
      "Epoch 12/100\n",
      "1/1 [==============================] - 0s 303ms/step - loss: 1.0260 - categorical_accuracy: 0.5357\n",
      "Epoch 13/100\n",
      "1/1 [==============================] - 0s 275ms/step - loss: 1.0095 - categorical_accuracy: 0.4643\n",
      "Epoch 14/100\n",
      "1/1 [==============================] - 0s 309ms/step - loss: 1.0348 - categorical_accuracy: 0.5000\n",
      "Epoch 15/100\n",
      "1/1 [==============================] - 0s 283ms/step - loss: 0.9048 - categorical_accuracy: 0.6071\n",
      "Epoch 16/100\n",
      "1/1 [==============================] - 0s 310ms/step - loss: 0.9510 - categorical_accuracy: 0.4643\n",
      "Epoch 17/100\n",
      "1/1 [==============================] - 0s 279ms/step - loss: 0.9245 - categorical_accuracy: 0.6429\n",
      "Epoch 18/100\n",
      "1/1 [==============================] - 0s 275ms/step - loss: 0.8776 - categorical_accuracy: 0.6786\n",
      "Epoch 19/100\n",
      "1/1 [==============================] - 0s 244ms/step - loss: 0.8191 - categorical_accuracy: 0.5714\n",
      "Epoch 20/100\n",
      "1/1 [==============================] - 0s 232ms/step - loss: 0.6993 - categorical_accuracy: 0.6429\n",
      "Epoch 21/100\n",
      "1/1 [==============================] - 0s 351ms/step - loss: 0.7938 - categorical_accuracy: 0.6071\n",
      "Epoch 22/100\n",
      "1/1 [==============================] - 0s 254ms/step - loss: 1.1508 - categorical_accuracy: 0.5357\n",
      "Epoch 23/100\n",
      "1/1 [==============================] - 0s 286ms/step - loss: 0.6988 - categorical_accuracy: 0.6786\n",
      "Epoch 24/100\n",
      "1/1 [==============================] - 0s 240ms/step - loss: 0.9153 - categorical_accuracy: 0.5357\n",
      "Epoch 25/100\n",
      "1/1 [==============================] - 0s 280ms/step - loss: 0.9486 - categorical_accuracy: 0.5000\n",
      "Epoch 26/100\n",
      "1/1 [==============================] - 0s 297ms/step - loss: 0.8713 - categorical_accuracy: 0.5714\n",
      "Epoch 27/100\n",
      "1/1 [==============================] - 0s 303ms/step - loss: 0.7981 - categorical_accuracy: 0.7500\n",
      "Epoch 28/100\n",
      "1/1 [==============================] - 0s 310ms/step - loss: 0.8087 - categorical_accuracy: 0.6071\n",
      "Epoch 29/100\n",
      "1/1 [==============================] - 0s 248ms/step - loss: 0.8569 - categorical_accuracy: 0.5000\n",
      "Epoch 30/100\n",
      "1/1 [==============================] - 0s 293ms/step - loss: 0.7886 - categorical_accuracy: 0.6071\n",
      "Epoch 31/100\n",
      "1/1 [==============================] - 0s 283ms/step - loss: 0.6731 - categorical_accuracy: 0.7500\n",
      "Epoch 32/100\n",
      "1/1 [==============================] - 0s 342ms/step - loss: 0.6897 - categorical_accuracy: 0.6429\n",
      "Epoch 33/100\n",
      "1/1 [==============================] - 0s 316ms/step - loss: 0.7234 - categorical_accuracy: 0.6786\n",
      "Epoch 34/100\n",
      "1/1 [==============================] - 0s 319ms/step - loss: 0.5919 - categorical_accuracy: 0.7143\n",
      "Epoch 35/100\n",
      "1/1 [==============================] - 0s 339ms/step - loss: 0.7168 - categorical_accuracy: 0.6786\n",
      "Epoch 36/100\n",
      "1/1 [==============================] - 0s 339ms/step - loss: 0.5994 - categorical_accuracy: 0.7143\n",
      "Epoch 37/100\n",
      "1/1 [==============================] - 0s 253ms/step - loss: 0.6083 - categorical_accuracy: 0.6786\n",
      "Epoch 38/100\n",
      "1/1 [==============================] - 0s 282ms/step - loss: 0.6143 - categorical_accuracy: 0.7143\n",
      "Epoch 39/100\n",
      "1/1 [==============================] - 0s 288ms/step - loss: 0.5391 - categorical_accuracy: 0.7500\n",
      "Epoch 40/100\n",
      "1/1 [==============================] - 0s 422ms/step - loss: 0.5900 - categorical_accuracy: 0.7500\n",
      "Epoch 41/100\n",
      "1/1 [==============================] - 0s 300ms/step - loss: 0.5442 - categorical_accuracy: 0.7857\n",
      "Epoch 42/100\n",
      "1/1 [==============================] - 0s 295ms/step - loss: 0.5123 - categorical_accuracy: 0.7500\n",
      "Epoch 43/100\n",
      "1/1 [==============================] - 0s 293ms/step - loss: 0.5254 - categorical_accuracy: 0.7500\n",
      "Epoch 44/100\n",
      "1/1 [==============================] - 0s 301ms/step - loss: 0.4671 - categorical_accuracy: 0.7857\n",
      "Epoch 45/100\n",
      "1/1 [==============================] - 0s 268ms/step - loss: 0.4685 - categorical_accuracy: 0.7857\n",
      "Epoch 46/100\n",
      "1/1 [==============================] - 0s 221ms/step - loss: 0.4214 - categorical_accuracy: 0.7500\n",
      "Epoch 47/100\n",
      "1/1 [==============================] - 0s 298ms/step - loss: 0.3868 - categorical_accuracy: 0.8214\n",
      "Epoch 48/100\n",
      "1/1 [==============================] - 0s 265ms/step - loss: 0.3998 - categorical_accuracy: 0.7500\n",
      "Epoch 49/100\n",
      "1/1 [==============================] - 0s 232ms/step - loss: 0.4311 - categorical_accuracy: 0.8214\n",
      "Epoch 50/100\n",
      "1/1 [==============================] - 0s 254ms/step - loss: 0.6506 - categorical_accuracy: 0.7143\n",
      "Epoch 51/100\n",
      "1/1 [==============================] - 0s 296ms/step - loss: 0.9383 - categorical_accuracy: 0.5357\n",
      "Epoch 52/100\n",
      "1/1 [==============================] - 0s 307ms/step - loss: 0.7586 - categorical_accuracy: 0.6429\n",
      "Epoch 53/100\n",
      "1/1 [==============================] - 0s 307ms/step - loss: 0.5937 - categorical_accuracy: 0.6071\n",
      "Epoch 54/100\n",
      "1/1 [==============================] - 0s 283ms/step - loss: 0.4980 - categorical_accuracy: 0.9286\n",
      "Epoch 55/100\n",
      "1/1 [==============================] - 0s 297ms/step - loss: 0.5232 - categorical_accuracy: 0.6786\n",
      "Epoch 56/100\n",
      "1/1 [==============================] - 0s 286ms/step - loss: 0.5855 - categorical_accuracy: 0.6786\n",
      "Epoch 57/100\n",
      "1/1 [==============================] - 0s 285ms/step - loss: 0.5725 - categorical_accuracy: 0.6786\n",
      "Epoch 58/100\n",
      "1/1 [==============================] - 0s 297ms/step - loss: 0.5114 - categorical_accuracy: 0.7143\n",
      "Epoch 59/100\n",
      "1/1 [==============================] - 0s 319ms/step - loss: 0.4936 - categorical_accuracy: 0.7857\n",
      "Epoch 60/100\n",
      "1/1 [==============================] - 0s 284ms/step - loss: 0.4835 - categorical_accuracy: 0.8214\n",
      "Epoch 61/100\n",
      "1/1 [==============================] - 0s 342ms/step - loss: 0.4517 - categorical_accuracy: 0.8214\n",
      "Epoch 62/100\n",
      "1/1 [==============================] - 0s 319ms/step - loss: 0.4357 - categorical_accuracy: 0.7857\n",
      "Epoch 63/100\n",
      "1/1 [==============================] - 0s 313ms/step - loss: 0.4100 - categorical_accuracy: 0.7857\n",
      "Epoch 64/100\n",
      "1/1 [==============================] - 0s 319ms/step - loss: 0.4160 - categorical_accuracy: 0.8214\n",
      "Epoch 65/100\n",
      "1/1 [==============================] - 0s 317ms/step - loss: 0.3787 - categorical_accuracy: 0.8214\n",
      "Epoch 66/100\n",
      "1/1 [==============================] - 0s 318ms/step - loss: 0.3505 - categorical_accuracy: 0.8571\n",
      "Epoch 67/100\n",
      "1/1 [==============================] - 0s 303ms/step - loss: 0.3492 - categorical_accuracy: 0.8571\n",
      "Epoch 68/100\n",
      "1/1 [==============================] - 0s 286ms/step - loss: 0.3106 - categorical_accuracy: 0.8571\n",
      "Epoch 69/100\n",
      "1/1 [==============================] - 0s 306ms/step - loss: 0.2769 - categorical_accuracy: 0.8571\n",
      "Epoch 70/100\n",
      "1/1 [==============================] - 0s 278ms/step - loss: 0.2661 - categorical_accuracy: 0.8214\n",
      "Epoch 71/100\n",
      "1/1 [==============================] - 0s 286ms/step - loss: 0.2409 - categorical_accuracy: 0.8214\n",
      "Epoch 72/100\n",
      "1/1 [==============================] - 0s 274ms/step - loss: 0.1997 - categorical_accuracy: 0.8571\n",
      "Epoch 73/100\n",
      "1/1 [==============================] - 0s 389ms/step - loss: 0.1982 - categorical_accuracy: 0.9286\n",
      "Epoch 74/100\n",
      "1/1 [==============================] - 0s 305ms/step - loss: 0.2346 - categorical_accuracy: 0.8929\n",
      "Epoch 75/100\n",
      "1/1 [==============================] - 0s 294ms/step - loss: 0.2053 - categorical_accuracy: 0.9643\n",
      "Epoch 76/100\n",
      "1/1 [==============================] - 0s 305ms/step - loss: 0.3335 - categorical_accuracy: 0.8214\n",
      "Epoch 77/100\n",
      "1/1 [==============================] - 0s 284ms/step - loss: 0.2256 - categorical_accuracy: 0.9286\n",
      "Epoch 78/100\n",
      "1/1 [==============================] - 0s 331ms/step - loss: 0.1623 - categorical_accuracy: 0.9286\n",
      "Epoch 79/100\n",
      "1/1 [==============================] - 0s 297ms/step - loss: 0.1785 - categorical_accuracy: 0.8929\n",
      "Epoch 80/100\n",
      "1/1 [==============================] - 0s 243ms/step - loss: 0.1114 - categorical_accuracy: 0.9643\n",
      "Epoch 81/100\n",
      "1/1 [==============================] - 0s 317ms/step - loss: 0.4907 - categorical_accuracy: 0.7857\n",
      "Epoch 82/100\n",
      "1/1 [==============================] - 0s 316ms/step - loss: 3.9744 - categorical_accuracy: 0.6786\n",
      "Epoch 83/100\n",
      "1/1 [==============================] - 0s 318ms/step - loss: 0.2024 - categorical_accuracy: 0.9643\n",
      "Epoch 84/100\n",
      "1/1 [==============================] - 0s 327ms/step - loss: 1.8242 - categorical_accuracy: 0.6429\n",
      "Epoch 85/100\n",
      "1/1 [==============================] - 0s 384ms/step - loss: 1.5974 - categorical_accuracy: 0.5714\n",
      "Epoch 86/100\n",
      "1/1 [==============================] - 0s 284ms/step - loss: 1.3366 - categorical_accuracy: 0.5714\n",
      "Epoch 87/100\n",
      "1/1 [==============================] - 0s 316ms/step - loss: 1.1705 - categorical_accuracy: 0.5714\n",
      "Epoch 88/100\n",
      "1/1 [==============================] - 0s 321ms/step - loss: 1.0773 - categorical_accuracy: 0.5714\n",
      "Epoch 89/100\n",
      "1/1 [==============================] - 0s 329ms/step - loss: 1.0218 - categorical_accuracy: 0.5714\n",
      "Epoch 90/100\n",
      "1/1 [==============================] - 0s 390ms/step - loss: 0.9841 - categorical_accuracy: 0.6071\n",
      "Epoch 91/100\n",
      "1/1 [==============================] - 0s 277ms/step - loss: 0.9549 - categorical_accuracy: 0.6071\n",
      "Epoch 92/100\n",
      "1/1 [==============================] - 0s 303ms/step - loss: 0.9292 - categorical_accuracy: 0.5000\n",
      "Epoch 93/100\n",
      "1/1 [==============================] - 0s 306ms/step - loss: 0.9039 - categorical_accuracy: 0.4643\n",
      "Epoch 94/100\n",
      "1/1 [==============================] - 0s 317ms/step - loss: 0.8763 - categorical_accuracy: 0.4643\n",
      "Epoch 95/100\n",
      "1/1 [==============================] - 0s 306ms/step - loss: 0.8455 - categorical_accuracy: 0.5357\n",
      "Epoch 96/100\n",
      "1/1 [==============================] - 0s 263ms/step - loss: 0.8052 - categorical_accuracy: 0.5714\n",
      "Epoch 97/100\n",
      "1/1 [==============================] - 0s 329ms/step - loss: 0.7498 - categorical_accuracy: 0.6786\n",
      "Epoch 98/100\n",
      "1/1 [==============================] - 0s 319ms/step - loss: 0.6873 - categorical_accuracy: 0.6786\n",
      "Epoch 99/100\n",
      "1/1 [==============================] - 0s 317ms/step - loss: 0.6253 - categorical_accuracy: 0.6071\n",
      "Epoch 100/100\n",
      "1/1 [==============================] - 0s 317ms/step - loss: 0.6226 - categorical_accuracy: 0.6071\n"
     ]
    },
    {
     "data": {
      "text/plain": [
       "<keras.callbacks.History at 0x2bc5636fcd0>"
      ]
     },
     "execution_count": 51,
     "metadata": {},
     "output_type": "execute_result"
    }
   ],
   "source": [
    "model.fit(X_train, y_train, epochs=100, callbacks=[tb_callback])"
   ]
  },
  {
   "cell_type": "code",
   "execution_count": 52,
   "metadata": {},
   "outputs": [
    {
     "name": "stdout",
     "output_type": "stream",
     "text": [
      "1/1 [==============================] - 1s 576ms/step\n"
     ]
    },
    {
     "data": {
      "text/plain": [
       "array([[1.8386731e-13, 1.0000000e+00, 2.2260710e-14],\n",
       "       [5.2295953e-01, 1.1327526e-01, 3.6376521e-01]], dtype=float32)"
      ]
     },
     "execution_count": 52,
     "metadata": {},
     "output_type": "execute_result"
    }
   ],
   "source": [
    "res = model.predict(X_test)\n",
    "res"
   ]
  },
  {
   "cell_type": "code",
   "execution_count": 54,
   "metadata": {},
   "outputs": [
    {
     "name": "stdout",
     "output_type": "stream",
     "text": [
      "hello\n",
      "by\n"
     ]
    }
   ],
   "source": [
    "position = 1\n",
    "print(actions[np.argmax(res[position])])\n",
    "print(actions[np.argmax(y_test[position])])"
   ]
  },
  {
   "cell_type": "code",
   "execution_count": 55,
   "metadata": {},
   "outputs": [],
   "source": [
    "model.save(\"action.h5\")\n",
    "model.load_weights(\"action.h5\")"
   ]
  },
  {
   "cell_type": "code",
   "execution_count": 56,
   "metadata": {},
   "outputs": [
    {
     "name": "stdout",
     "output_type": "stream",
     "text": [
      "1/1 [==============================] - 0s 36ms/step\n"
     ]
    },
    {
     "data": {
      "text/plain": [
       "array([[[1, 1],\n",
       "        [0, 0]],\n",
       "\n",
       "       [[1, 0],\n",
       "        [0, 1]],\n",
       "\n",
       "       [[1, 0],\n",
       "        [1, 0]]], dtype=int64)"
      ]
     },
     "execution_count": 56,
     "metadata": {},
     "output_type": "execute_result"
    }
   ],
   "source": [
    "yhat = model.predict(X_test)\n",
    "ytrue = np.argmax(y_test, axis=1).tolist()\n",
    "yhat = np.argmax(yhat, axis=1).tolist()\n",
    "\n",
    "multilabel_confusion_matrix(ytrue, yhat)"
   ]
  },
  {
   "cell_type": "code",
   "execution_count": 57,
   "metadata": {},
   "outputs": [
    {
     "data": {
      "text/plain": [
       "0.5"
      ]
     },
     "execution_count": 57,
     "metadata": {},
     "output_type": "execute_result"
    }
   ],
   "source": [
    "accuracy_score(ytrue, yhat)"
   ]
  }
 ],
 "metadata": {
  "kernelspec": {
   "display_name": "Python 3.10.6 64-bit",
   "language": "python",
   "name": "python3"
  },
  "language_info": {
   "codemirror_mode": {
    "name": "ipython",
    "version": 3
   },
   "file_extension": ".py",
   "mimetype": "text/x-python",
   "name": "python",
   "nbconvert_exporter": "python",
   "pygments_lexer": "ipython3",
   "version": "3.10.6"
  },
  "orig_nbformat": 4,
  "vscode": {
   "interpreter": {
    "hash": "7ce6ccc11a83bc9bed0c17f1af93ce616e6495f116eabf1a0084cc277f1779e4"
   }
  }
 },
 "nbformat": 4,
 "nbformat_minor": 2
}
