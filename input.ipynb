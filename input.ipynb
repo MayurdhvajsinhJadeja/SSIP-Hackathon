{
 "cells": [
  {
   "cell_type": "code",
   "execution_count": 1,
   "metadata": {},
   "outputs": [],
   "source": [
    "import cv2\n",
    "import numpy as np\n",
    "import os\n",
    "from matplotlib import pyplot as plt\n",
    "import time\n",
    "import mediapipe as mp\n",
    "\n",
    "import tensorflow as tf\n",
    "from tensorflow import keras,lite\n",
    "\n",
    "from keras.models import load_model\n",
    "from keras.models import Sequential\n",
    "from keras.layers import LSTM, Dense\n",
    "from keras.callbacks import TensorBoard\n",
    "\n",
    "from sklearn.model_selection import train_test_split\n",
    "from keras.utils import to_categorical\n",
    "\n",
    "from sklearn.metrics import multilabel_confusion_matrix, accuracy_score"
   ]
  },
  {
   "cell_type": "code",
   "execution_count": 194,
   "metadata": {},
   "outputs": [
    {
     "data": {
      "text/plain": [
       "'2.10.0'"
      ]
     },
     "execution_count": 194,
     "metadata": {},
     "output_type": "execute_result"
    }
   ],
   "source": [
    "tf.version.VERSION"
   ]
  },
  {
   "cell_type": "code",
   "execution_count": 168,
   "metadata": {},
   "outputs": [],
   "source": [
    "mp_hands = mp.solutions.hands # Holistic model\n",
    "mp_drawing = mp.solutions.drawing_utils # Drawing utilities\n",
    "\n",
    "def mediapipe_detection(image, model):\n",
    "    image = cv2.cvtColor(image, cv2.COLOR_BGR2RGB) # COLOR CONVERSION BGR 2 RGB\n",
    "    image.flags.writeable = False                  # Image is no longer writeable\n",
    "    results = model.process(image)                 # Make prediction\n",
    "    image.flags.writeable = True                   # Image is now writeable \n",
    "    image = cv2.cvtColor(image, cv2.COLOR_RGB2BGR) # COLOR COVERSION RGB 2 BGR\n",
    "    return image, results\n",
    "\n",
    "\n",
    "def draw_styled_landmarks(image, results):\n",
    "    # Draw left hand connections\n",
    "    if not results.multi_hand_landmarks:\n",
    "        return\n",
    "    for hand_landmarks in results.multi_hand_landmarks:\n",
    "        mp_drawing.draw_landmarks(image, hand_landmarks, mp_hands.HAND_CONNECTIONS, \n",
    "                             mp_drawing.DrawingSpec(color=(121,22,76), thickness=2, circle_radius=4), \n",
    "                             mp_drawing.DrawingSpec(color=(121,44,250), thickness=2, circle_radius=2)\n",
    "                             )\n",
    "    \n",
    "def draw_landmarks(image, results):\n",
    "    if not results.multi_hand_landmarks:\n",
    "        return\n",
    "    for hand_landmarks in results.multi_hand_landmarks:\n",
    "        mp_drawing.draw_landmarks(image, hand_landmarks, mp_hands.HAND_CONNECTIONS) # Draw left hand connections\n",
    "    \n",
    "def extract_keypoints(results):\n",
    "    lh = np.array([[res.landmark[point].x, res.landmark[point].y, res.landmark[point].z] for point in mp_hands.HandLandmark for res in results.multi_hand_landmarks], dtype=float).flatten() if results.multi_hand_landmarks else np.zeros(21*3*2)\n",
    "    if lh.shape[0] == 63:\n",
    "        rh = np.array([[res.landmark[point].x, res.landmark[point].y, res.landmark[point].z] for point in mp_hands.HandLandmark for res in results.multi_hand_landmarks], dtype=float).flatten() if results.multi_hand_landmarks else np.zeros(21*3)\n",
    "        return np.concatenate([lh, rh])\n",
    "    # rh = np.array([[res.landmark[point].x, res.landmark[point].y, res.landmark[point].z] for point in mp_hands.HandLandmark for res in results.multi_hand_landmarks], dtype=float).flatten() if results.multi_hand_landmarks else np.zeros(21*3*2)\n",
    "    # return lh\n",
    "    return np.concatenate([lh])\n"
   ]
  },
  {
   "cell_type": "code",
   "execution_count": 218,
   "metadata": {},
   "outputs": [],
   "source": [
    "# Path for exported data, numpy arrays\n",
    "DATA_PATH = os.path.join('MP_Data') \n",
    "\n",
    "# Actions that we try to detect\n",
    "actions = np.array(['hello', 'hii', 'by'])\n",
    "\n",
    "# Thirty videos worth of data\n",
    "no_sequences = 1\n",
    "\n",
    "# Videos are going to be 30 frames in length\n",
    "sequence_length = 30\n",
    "\n",
    "# Folder start\n",
    "start_folder = 0"
   ]
  },
  {
   "cell_type": "code",
   "execution_count": 219,
   "metadata": {},
   "outputs": [],
   "source": [
    "for action in actions: \n",
    "    for sequence in range(0,no_sequences):\n",
    "        try: \n",
    "            os.makedirs(os.path.join(DATA_PATH, action, str(sequence)))\n",
    "        except:\n",
    "            pass"
   ]
  },
  {
   "cell_type": "code",
   "execution_count": 220,
   "metadata": {},
   "outputs": [],
   "source": [
    "try:\n",
    "    cap = cv2.VideoCapture(0)\n",
    "    # Set mediapipe model \n",
    "    with mp_hands.Hands(min_detection_confidence=0.5, min_tracking_confidence=0.5) as hands:\n",
    "        \n",
    "        # NEW LOOP\n",
    "\n",
    "        # Loop through actions\n",
    "        for action in actions:\n",
    "            # Loop through sequences aka videos\n",
    "            for sequence in range(no_sequences):\n",
    "                # Loop through video length aka sequence length\n",
    "                for frame_num in range(sequence_length):\n",
    "\n",
    "                    # Read feed\n",
    "                    ret, frame = cap.read()\n",
    "\n",
    "                    # Make detections\n",
    "                    image, results = mediapipe_detection(frame, hands)\n",
    "\n",
    "                    # Draw landmarks\n",
    "                    draw_styled_landmarks(image, results)\n",
    "                    \n",
    "                    # NEW Apply wait logic\n",
    "                    if frame_num == 0: \n",
    "                        cv2.putText(image, 'STARTING COLLECTION', (120,200), \n",
    "                                cv2.FONT_HERSHEY_SIMPLEX, 1, (0,255, 0), 4, cv2.LINE_AA)\n",
    "                        cv2.putText(image, 'Collecting frames for {} Video Number {}'.format(action, sequence), (15,12), \n",
    "                                cv2.FONT_HERSHEY_SIMPLEX, 0.5, (0, 0, 255), 1, cv2.LINE_AA)\n",
    "                        # Show to screen\n",
    "                        cv2.imshow('OpenCV Feed', image)\n",
    "                        cv2.waitKey(500)\n",
    "                    else: \n",
    "                        cv2.putText(image, 'Collecting frames for {} Video Number {}'.format(action, sequence), (15,12), \n",
    "                                cv2.FONT_HERSHEY_SIMPLEX, 0.5, (0, 0, 255), 1, cv2.LINE_AA)\n",
    "                        # Show to screen\n",
    "                        cv2.imshow('OpenCV Feed', image)\n",
    "                    \n",
    "                    # NEW Export keypoints\n",
    "                    keypoints = extract_keypoints(results)\n",
    "                    # print(keypoints.shape)\n",
    "                    npy_path = os.path.join(DATA_PATH, action, str(sequence), str(frame_num))\n",
    "                    np.save(npy_path, keypoints)\n",
    "\n",
    "                    # Break gracefully\n",
    "                    if cv2.waitKey(10) & 0xFF == ord('q'):\n",
    "                        break\n",
    "                        \n",
    "        cap.release()\n",
    "        cv2.destroyAllWindows()\n",
    "\n",
    "finally:\n",
    "    # print(\"error\")\n",
    "    cap.release()\n",
    "    cv2.destroyAllWindows()"
   ]
  },
  {
   "cell_type": "code",
   "execution_count": 87,
   "metadata": {},
   "outputs": [],
   "source": [
    "cap.release()\n",
    "cv2.destroyAllWindows()"
   ]
  },
  {
   "cell_type": "code",
   "execution_count": 221,
   "metadata": {},
   "outputs": [
    {
     "name": "stdout",
     "output_type": "stream",
     "text": [
      "{'hello': 0, 'hii': 1, 'by': 2}\n"
     ]
    }
   ],
   "source": [
    "label_map = {label: num for num, label in enumerate(actions)}\n",
    "print(label_map)"
   ]
  },
  {
   "cell_type": "code",
   "execution_count": 222,
   "metadata": {},
   "outputs": [],
   "source": [
    "sequences, labels = [], []\n",
    "for action in actions:\n",
    "    for sequence in np.array(os.listdir(os.path.join(DATA_PATH, action))).astype(int):\n",
    "        window = []\n",
    "        for frame_num in range(sequence_length):\n",
    "            res = np.load(os.path.join(DATA_PATH, action, str(sequence), \"{}.npy\".format(frame_num)))\n",
    "            window.append(res)\n",
    "        sequences.append(window)\n",
    "        labels.append(label_map[action])\n"
   ]
  },
  {
   "cell_type": "code",
   "execution_count": 2,
   "metadata": {},
   "outputs": [
    {
     "ename": "NameError",
     "evalue": "name 'sequences' is not defined",
     "output_type": "error",
     "traceback": [
      "\u001b[1;31m---------------------------------------------------------------------------\u001b[0m",
      "\u001b[1;31mNameError\u001b[0m                                 Traceback (most recent call last)",
      "\u001b[1;32md:\\D2D\\0 SSIP Hackathon\\Sign_Language_To_Text_Converter_Hackathon\\Hands\\input.ipynb Cell 10\u001b[0m in \u001b[0;36m<cell line: 2>\u001b[1;34m()\u001b[0m\n\u001b[0;32m      <a href='vscode-notebook-cell:/d%3A/D2D/0%20SSIP%20Hackathon/Sign_Language_To_Text_Converter_Hackathon/Hands/input.ipynb#X12sZmlsZQ%3D%3D?line=0'>1</a>\u001b[0m \u001b[39m# print(sequences)\u001b[39;00m\n\u001b[1;32m----> <a href='vscode-notebook-cell:/d%3A/D2D/0%20SSIP%20Hackathon/Sign_Language_To_Text_Converter_Hackathon/Hands/input.ipynb#X12sZmlsZQ%3D%3D?line=1'>2</a>\u001b[0m \u001b[39mprint\u001b[39m(np\u001b[39m.\u001b[39marray(sequences)\u001b[39m.\u001b[39mshape)\n\u001b[0;32m      <a href='vscode-notebook-cell:/d%3A/D2D/0%20SSIP%20Hackathon/Sign_Language_To_Text_Converter_Hackathon/Hands/input.ipynb#X12sZmlsZQ%3D%3D?line=2'>3</a>\u001b[0m \u001b[39mprint\u001b[39m(np\u001b[39m.\u001b[39marray(labels)\u001b[39m.\u001b[39mshape)\n\u001b[0;32m      <a href='vscode-notebook-cell:/d%3A/D2D/0%20SSIP%20Hackathon/Sign_Language_To_Text_Converter_Hackathon/Hands/input.ipynb#X12sZmlsZQ%3D%3D?line=3'>4</a>\u001b[0m X \u001b[39m=\u001b[39m np\u001b[39m.\u001b[39marray(sequences)\n",
      "\u001b[1;31mNameError\u001b[0m: name 'sequences' is not defined"
     ]
    }
   ],
   "source": [
    "# print(sequences)\n",
    "print(np.array(sequences).shape)\n",
    "print(np.array(labels).shape)\n",
    "X = np.array(sequences)\n",
    "print(X.shape)\n",
    "y = to_categorical(labels).astype(int)\n",
    "X_train, X_test, y_train, y_test = train_test_split(X, y, test_size=0.05)\n",
    "print(y_test.shape)"
   ]
  },
  {
   "cell_type": "code",
   "execution_count": 247,
   "metadata": {},
   "outputs": [],
   "source": [
    "log_dir = os.path.join('Logs')\n",
    "tb_callback = TensorBoard(log_dir=log_dir)\n",
    "\n",
    "# model = Sequential()\n",
    "# model.add(LSTM(64, return_sequences=True, input_shape=(30,126)))\n",
    "# model.add(LSTM(128, return_sequences=True))\n",
    "# model.add(LSTM(64, return_sequences=False))\n",
    "# model.add(Dense(64))\n",
    "# model.add(Dense(32))\n",
    "# model.add(Dense(actions.shape[0]))\n",
    "model = Sequential()\n",
    "model.add(LSTM(64, return_sequences=True, activation='relu', input_shape=(30,126)))\n",
    "model.add(LSTM(128, return_sequences=True, activation='relu'))\n",
    "model.add(LSTM(64, return_sequences=False, activation='relu'))\n",
    "model.add(Dense(64, activation='relu'))\n",
    "model.add(Dense(32, activation='relu'))\n",
    "model.add(Dense(actions.shape[0], activation='softmax'))\n",
    "\n",
    "model.compile(optimizer='Adam', loss='categorical_crossentropy', metrics=['categorical_accuracy'])"
   ]
  },
  {
   "cell_type": "code",
   "execution_count": 245,
   "metadata": {},
   "outputs": [],
   "source": [
    "# del model"
   ]
  },
  {
   "cell_type": "code",
   "execution_count": 248,
   "metadata": {},
   "outputs": [
    {
     "name": "stdout",
     "output_type": "stream",
     "text": [
      "Model: \"sequential_21\"\n",
      "_________________________________________________________________\n",
      " Layer (type)                Output Shape              Param #   \n",
      "=================================================================\n",
      " lstm_50 (LSTM)              (None, 30, 64)            48896     \n",
      "                                                                 \n",
      " lstm_51 (LSTM)              (None, 30, 128)           98816     \n",
      "                                                                 \n",
      " lstm_52 (LSTM)              (None, 64)                49408     \n",
      "                                                                 \n",
      " dense_56 (Dense)            (None, 64)                4160      \n",
      "                                                                 \n",
      " dense_57 (Dense)            (None, 32)                2080      \n",
      "                                                                 \n",
      " dense_58 (Dense)            (None, 3)                 99        \n",
      "                                                                 \n",
      "=================================================================\n",
      "Total params: 203,459\n",
      "Trainable params: 203,459\n",
      "Non-trainable params: 0\n",
      "_________________________________________________________________\n"
     ]
    }
   ],
   "source": [
    "model.summary()"
   ]
  },
  {
   "cell_type": "code",
   "execution_count": 226,
   "metadata": {},
   "outputs": [
    {
     "name": "stdout",
     "output_type": "stream",
     "text": [
      "Epoch 1/100\n",
      "1/1 [==============================] - 4s 4s/step - loss: 1.0993 - categorical_accuracy: 0.9333\n",
      "Epoch 2/100\n",
      "1/1 [==============================] - 0s 421ms/step - loss: 1.0946 - categorical_accuracy: 0.9333\n",
      "Epoch 3/100\n",
      "1/1 [==============================] - 0s 434ms/step - loss: 1.0893 - categorical_accuracy: 0.9333\n",
      "Epoch 4/100\n",
      "1/1 [==============================] - 1s 516ms/step - loss: 1.0835 - categorical_accuracy: 0.9333\n",
      "Epoch 5/100\n",
      "1/1 [==============================] - 0s 419ms/step - loss: 1.0770 - categorical_accuracy: 0.9667\n",
      "Epoch 6/100\n",
      "1/1 [==============================] - 0s 397ms/step - loss: 1.0694 - categorical_accuracy: 0.9667\n",
      "Epoch 7/100\n",
      "1/1 [==============================] - 0s 433ms/step - loss: 1.0606 - categorical_accuracy: 0.9667\n",
      "Epoch 8/100\n",
      "1/1 [==============================] - 0s 444ms/step - loss: 1.0498 - categorical_accuracy: 0.9667\n",
      "Epoch 9/100\n",
      "1/1 [==============================] - 0s 412ms/step - loss: 1.0346 - categorical_accuracy: 0.9667\n",
      "Epoch 10/100\n",
      "1/1 [==============================] - 1s 526ms/step - loss: 1.0111 - categorical_accuracy: 0.9667\n",
      "Epoch 11/100\n",
      "1/1 [==============================] - 0s 428ms/step - loss: 0.9806 - categorical_accuracy: 0.9667\n",
      "Epoch 12/100\n",
      "1/1 [==============================] - 0s 473ms/step - loss: 0.9521 - categorical_accuracy: 0.9667\n",
      "Epoch 13/100\n",
      "1/1 [==============================] - 0s 411ms/step - loss: 1.0568 - categorical_accuracy: 0.9333\n",
      "Epoch 14/100\n",
      "1/1 [==============================] - 1s 518ms/step - loss: 0.9411 - categorical_accuracy: 0.9667\n",
      "Epoch 15/100\n",
      "1/1 [==============================] - 0s 479ms/step - loss: 0.9394 - categorical_accuracy: 0.9333\n",
      "Epoch 16/100\n",
      "1/1 [==============================] - 0s 422ms/step - loss: 0.9401 - categorical_accuracy: 0.9333\n",
      "Epoch 17/100\n",
      "1/1 [==============================] - 1s 525ms/step - loss: 1.0257 - categorical_accuracy: 0.9333\n",
      "Epoch 18/100\n",
      "1/1 [==============================] - 1s 523ms/step - loss: 0.8649 - categorical_accuracy: 0.9667\n",
      "Epoch 19/100\n",
      "1/1 [==============================] - 0s 418ms/step - loss: 0.8851 - categorical_accuracy: 0.9333\n",
      "Epoch 20/100\n",
      "1/1 [==============================] - 0s 468ms/step - loss: 0.8097 - categorical_accuracy: 0.9667\n",
      "Epoch 21/100\n",
      "1/1 [==============================] - 1s 599ms/step - loss: 0.7822 - categorical_accuracy: 0.9667\n",
      "Epoch 22/100\n",
      "1/1 [==============================] - 0s 465ms/step - loss: 0.7469 - categorical_accuracy: 0.9667\n",
      "Epoch 23/100\n",
      "1/1 [==============================] - 0s 445ms/step - loss: 0.7028 - categorical_accuracy: 0.9667\n",
      "Epoch 24/100\n",
      "1/1 [==============================] - 0s 421ms/step - loss: 0.6499 - categorical_accuracy: 0.9667\n",
      "Epoch 25/100\n",
      "1/1 [==============================] - 0s 420ms/step - loss: 0.5849 - categorical_accuracy: 0.9667\n",
      "Epoch 26/100\n",
      "1/1 [==============================] - 0s 487ms/step - loss: 0.5008 - categorical_accuracy: 0.9667\n",
      "Epoch 27/100\n",
      "1/1 [==============================] - 1s 542ms/step - loss: 0.3887 - categorical_accuracy: 0.9667\n",
      "Epoch 28/100\n",
      "1/1 [==============================] - 0s 402ms/step - loss: 0.2332 - categorical_accuracy: 1.0000\n",
      "Epoch 29/100\n",
      "1/1 [==============================] - 0s 411ms/step - loss: 1.9634 - categorical_accuracy: 0.9667\n",
      "Epoch 30/100\n",
      "1/1 [==============================] - 0s 411ms/step - loss: 0.3240 - categorical_accuracy: 0.9667\n",
      "Epoch 31/100\n",
      "1/1 [==============================] - 0s 409ms/step - loss: 1.0834 - categorical_accuracy: 0.9000\n",
      "Epoch 32/100\n",
      "1/1 [==============================] - 0s 407ms/step - loss: 0.4027 - categorical_accuracy: 0.9667\n",
      "Epoch 33/100\n",
      "1/1 [==============================] - 0s 400ms/step - loss: 0.6179 - categorical_accuracy: 0.9333\n",
      "Epoch 34/100\n",
      "1/1 [==============================] - 0s 398ms/step - loss: 0.8714 - categorical_accuracy: 0.9333\n",
      "Epoch 35/100\n",
      "1/1 [==============================] - 0s 422ms/step - loss: 6.1635 - categorical_accuracy: 0.9000\n",
      "Epoch 36/100\n",
      "1/1 [==============================] - 0s 445ms/step - loss: 14.9365 - categorical_accuracy: 0.9333\n",
      "Epoch 37/100\n",
      "1/1 [==============================] - 0s 400ms/step - loss: 11.5676 - categorical_accuracy: 0.9333\n",
      "Epoch 38/100\n",
      "1/1 [==============================] - 0s 400ms/step - loss: 29.8404 - categorical_accuracy: 0.9333\n",
      "Epoch 39/100\n",
      "1/1 [==============================] - 1s 606ms/step - loss: 7.9518 - categorical_accuracy: 0.9000\n",
      "Epoch 40/100\n",
      "1/1 [==============================] - 1s 551ms/step - loss: 19.0729 - categorical_accuracy: 0.9333\n",
      "Epoch 41/100\n",
      "1/1 [==============================] - 1s 511ms/step - loss: 8.1539 - categorical_accuracy: 0.9333\n",
      "Epoch 42/100\n",
      "1/1 [==============================] - 0s 432ms/step - loss: 2.9450 - categorical_accuracy: 0.9667\n",
      "Epoch 43/100\n",
      "1/1 [==============================] - 0s 412ms/step - loss: 2.9409 - categorical_accuracy: 0.9667\n",
      "Epoch 44/100\n",
      "1/1 [==============================] - 0s 443ms/step - loss: 6.8697 - categorical_accuracy: 0.9333\n",
      "Epoch 45/100\n",
      "1/1 [==============================] - 0s 430ms/step - loss: 1.0616 - categorical_accuracy: 0.9667\n",
      "Epoch 46/100\n",
      "1/1 [==============================] - 0s 473ms/step - loss: 0.5961 - categorical_accuracy: 0.9333\n",
      "Epoch 47/100\n",
      "1/1 [==============================] - 0s 423ms/step - loss: 1.2849 - categorical_accuracy: 0.9000\n",
      "Epoch 48/100\n",
      "1/1 [==============================] - 0s 401ms/step - loss: 1.0507 - categorical_accuracy: 0.9333\n",
      "Epoch 49/100\n",
      "1/1 [==============================] - 0s 425ms/step - loss: 1.3718 - categorical_accuracy: 0.9333\n",
      "Epoch 50/100\n",
      "1/1 [==============================] - 0s 401ms/step - loss: 1.5304 - categorical_accuracy: 0.9333\n",
      "Epoch 51/100\n",
      "1/1 [==============================] - 0s 400ms/step - loss: 1.4946 - categorical_accuracy: 0.9333\n",
      "Epoch 52/100\n",
      "1/1 [==============================] - 0s 433ms/step - loss: 1.2291 - categorical_accuracy: 0.9333\n",
      "Epoch 53/100\n",
      "1/1 [==============================] - 0s 410ms/step - loss: 0.8540 - categorical_accuracy: 0.9333\n",
      "Epoch 54/100\n",
      "1/1 [==============================] - 1s 533ms/step - loss: 0.5269 - categorical_accuracy: 0.9667\n",
      "Epoch 55/100\n",
      "1/1 [==============================] - 1s 567ms/step - loss: 2.2210 - categorical_accuracy: 0.9333\n",
      "Epoch 56/100\n",
      "1/1 [==============================] - 0s 422ms/step - loss: 1.5955 - categorical_accuracy: 0.9333\n",
      "Epoch 57/100\n",
      "1/1 [==============================] - 0s 434ms/step - loss: 0.6029 - categorical_accuracy: 0.9667\n",
      "Epoch 58/100\n",
      "1/1 [==============================] - 0s 424ms/step - loss: 0.5761 - categorical_accuracy: 0.9667\n",
      "Epoch 59/100\n",
      "1/1 [==============================] - 0s 431ms/step - loss: 0.6334 - categorical_accuracy: 0.9333\n",
      "Epoch 60/100\n",
      "1/1 [==============================] - 0s 477ms/step - loss: 0.6689 - categorical_accuracy: 0.9333\n",
      "Epoch 61/100\n",
      "1/1 [==============================] - 1s 621ms/step - loss: 0.6618 - categorical_accuracy: 0.9333\n",
      "Epoch 62/100\n",
      "1/1 [==============================] - 0s 412ms/step - loss: 0.6142 - categorical_accuracy: 0.9333\n",
      "Epoch 63/100\n",
      "1/1 [==============================] - 0s 480ms/step - loss: 0.5263 - categorical_accuracy: 0.9333\n",
      "Epoch 64/100\n",
      "1/1 [==============================] - 0s 410ms/step - loss: 0.4476 - categorical_accuracy: 0.9667\n",
      "Epoch 65/100\n",
      "1/1 [==============================] - 0s 421ms/step - loss: 0.4196 - categorical_accuracy: 0.9667\n",
      "Epoch 66/100\n",
      "1/1 [==============================] - 0s 445ms/step - loss: 0.3972 - categorical_accuracy: 0.9667\n",
      "Epoch 67/100\n",
      "1/1 [==============================] - 0s 446ms/step - loss: 0.3822 - categorical_accuracy: 0.9667\n",
      "Epoch 68/100\n",
      "1/1 [==============================] - 0s 464ms/step - loss: 0.3039 - categorical_accuracy: 0.9667\n",
      "Epoch 69/100\n",
      "1/1 [==============================] - 0s 444ms/step - loss: 0.2410 - categorical_accuracy: 0.9667\n",
      "Epoch 70/100\n",
      "1/1 [==============================] - 0s 448ms/step - loss: 0.1780 - categorical_accuracy: 0.9667\n",
      "Epoch 71/100\n",
      "1/1 [==============================] - 0s 442ms/step - loss: 0.1400 - categorical_accuracy: 0.9667\n",
      "Epoch 72/100\n",
      "1/1 [==============================] - 0s 461ms/step - loss: 0.1683 - categorical_accuracy: 0.9333\n",
      "Epoch 73/100\n",
      "1/1 [==============================] - 1s 500ms/step - loss: 0.1532 - categorical_accuracy: 0.9333\n",
      "Epoch 74/100\n",
      "1/1 [==============================] - 0s 466ms/step - loss: 0.0854 - categorical_accuracy: 0.9333\n",
      "Epoch 75/100\n",
      "1/1 [==============================] - 0s 463ms/step - loss: 0.0332 - categorical_accuracy: 0.9667\n",
      "Epoch 76/100\n",
      "1/1 [==============================] - 0s 453ms/step - loss: 0.0108 - categorical_accuracy: 1.0000\n",
      "Epoch 77/100\n",
      "1/1 [==============================] - 0s 468ms/step - loss: 0.1146 - categorical_accuracy: 0.9667\n",
      "Epoch 78/100\n",
      "1/1 [==============================] - 0s 478ms/step - loss: 0.0080 - categorical_accuracy: 1.0000\n",
      "Epoch 79/100\n",
      "1/1 [==============================] - 0s 444ms/step - loss: 0.0122 - categorical_accuracy: 1.0000\n",
      "Epoch 80/100\n",
      "1/1 [==============================] - 0s 446ms/step - loss: 0.0267 - categorical_accuracy: 1.0000\n",
      "Epoch 81/100\n",
      "1/1 [==============================] - 0s 441ms/step - loss: 0.0438 - categorical_accuracy: 0.9667\n",
      "Epoch 82/100\n",
      "1/1 [==============================] - 0s 467ms/step - loss: 0.0512 - categorical_accuracy: 0.9667\n",
      "Epoch 83/100\n",
      "1/1 [==============================] - 0s 467ms/step - loss: 0.0454 - categorical_accuracy: 0.9667\n",
      "Epoch 84/100\n",
      "1/1 [==============================] - 0s 444ms/step - loss: 0.0324 - categorical_accuracy: 1.0000\n",
      "Epoch 85/100\n",
      "1/1 [==============================] - 0s 446ms/step - loss: 0.0206 - categorical_accuracy: 1.0000\n",
      "Epoch 86/100\n",
      "1/1 [==============================] - 0s 488ms/step - loss: 0.0143 - categorical_accuracy: 1.0000\n",
      "Epoch 87/100\n",
      "1/1 [==============================] - 0s 479ms/step - loss: 0.0136 - categorical_accuracy: 1.0000\n",
      "Epoch 88/100\n",
      "1/1 [==============================] - 0s 458ms/step - loss: 0.0140 - categorical_accuracy: 1.0000\n",
      "Epoch 89/100\n",
      "1/1 [==============================] - 0s 476ms/step - loss: 0.0099 - categorical_accuracy: 1.0000\n",
      "Epoch 90/100\n",
      "1/1 [==============================] - 0s 442ms/step - loss: 0.0083 - categorical_accuracy: 1.0000\n",
      "Epoch 91/100\n",
      "1/1 [==============================] - 1s 533ms/step - loss: 0.0076 - categorical_accuracy: 1.0000\n",
      "Epoch 92/100\n",
      "1/1 [==============================] - 0s 453ms/step - loss: 0.0058 - categorical_accuracy: 1.0000\n",
      "Epoch 93/100\n",
      "1/1 [==============================] - 0s 429ms/step - loss: 0.0037 - categorical_accuracy: 1.0000\n",
      "Epoch 94/100\n",
      "1/1 [==============================] - 1s 501ms/step - loss: 0.0021 - categorical_accuracy: 1.0000\n",
      "Epoch 95/100\n",
      "1/1 [==============================] - 0s 478ms/step - loss: 0.0011 - categorical_accuracy: 1.0000\n",
      "Epoch 96/100\n",
      "1/1 [==============================] - 0s 477ms/step - loss: 6.8633e-04 - categorical_accuracy: 1.0000\n",
      "Epoch 97/100\n",
      "1/1 [==============================] - 0s 445ms/step - loss: 4.1084e-04 - categorical_accuracy: 1.0000\n",
      "Epoch 98/100\n",
      "1/1 [==============================] - 0s 477ms/step - loss: 2.5924e-04 - categorical_accuracy: 1.0000\n",
      "Epoch 99/100\n",
      "1/1 [==============================] - 0s 444ms/step - loss: 1.8598e-04 - categorical_accuracy: 1.0000\n",
      "Epoch 100/100\n",
      "1/1 [==============================] - 0s 468ms/step - loss: 1.4492e-04 - categorical_accuracy: 1.0000\n"
     ]
    },
    {
     "data": {
      "text/plain": [
       "<keras.callbacks.History at 0x192aff8f1f0>"
      ]
     },
     "execution_count": 226,
     "metadata": {},
     "output_type": "execute_result"
    }
   ],
   "source": [
    "model.fit(X_train, y_train, epochs=100, callbacks=[tb_callback])\n"
   ]
  },
  {
   "cell_type": "code",
   "execution_count": 227,
   "metadata": {},
   "outputs": [
    {
     "name": "stdout",
     "output_type": "stream",
     "text": [
      "Model: \"sequential_16\"\n",
      "_________________________________________________________________\n",
      " Layer (type)                Output Shape              Param #   \n",
      "=================================================================\n",
      " lstm_35 (LSTM)              (None, 30, 64)            48896     \n",
      "                                                                 \n",
      " lstm_36 (LSTM)              (None, 30, 128)           98816     \n",
      "                                                                 \n",
      " lstm_37 (LSTM)              (None, 64)                49408     \n",
      "                                                                 \n",
      " dense_41 (Dense)            (None, 64)                4160      \n",
      "                                                                 \n",
      " dense_42 (Dense)            (None, 32)                2080      \n",
      "                                                                 \n",
      " dense_43 (Dense)            (None, 3)                 99        \n",
      "                                                                 \n",
      "=================================================================\n",
      "Total params: 203,459\n",
      "Trainable params: 203,459\n",
      "Non-trainable params: 0\n",
      "_________________________________________________________________\n"
     ]
    }
   ],
   "source": [
    "model.summary()"
   ]
  },
  {
   "cell_type": "code",
   "execution_count": 228,
   "metadata": {},
   "outputs": [
    {
     "name": "stdout",
     "output_type": "stream",
     "text": [
      "1/1 [==============================] - 0s 477ms/step\n"
     ]
    },
    {
     "data": {
      "text/plain": [
       "array([[1., 0., 0.],\n",
       "       [1., 0., 0.]], dtype=float32)"
      ]
     },
     "execution_count": 228,
     "metadata": {},
     "output_type": "execute_result"
    }
   ],
   "source": [
    "res = model.predict(X_test)\n",
    "res"
   ]
  },
  {
   "cell_type": "code",
   "execution_count": 232,
   "metadata": {},
   "outputs": [
    {
     "name": "stdout",
     "output_type": "stream",
     "text": [
      "hello\n",
      "hello\n"
     ]
    }
   ],
   "source": [
    "position = 0\n",
    "print(actions[np.argmax(res[position])])\n",
    "print(actions[np.argmax(y_test[position])])"
   ]
  },
  {
   "cell_type": "code",
   "execution_count": 260,
   "metadata": {},
   "outputs": [
    {
     "name": "stdout",
     "output_type": "stream",
     "text": [
      "INFO:tensorflow:Assets written to: saved_model.pb\\assets\n"
     ]
    },
    {
     "name": "stderr",
     "output_type": "stream",
     "text": [
      "INFO:tensorflow:Assets written to: saved_model.pb\\assets\n"
     ]
    }
   ],
   "source": [
    "# model.save(\"action.h5\")\n",
    "# tf.keras.models.save_model(model,\"saved_model.pb\")\n",
    "tf.keras.models.save_model(model,\"action.h5\")\n",
    "# converter = lite.TFLiteConverter.from_keras_model(model)\n",
    "# tfmodel = converter.convert()\n",
    "\n",
    "# open(os.path.join(DATA_PATH, \"action.tflite\"),\"wb\").write(tfmodel)\n",
    "# del model\n",
    "model.load_weights(\"action.h5\")"
   ]
  },
  {
   "cell_type": "code",
   "execution_count": 262,
   "metadata": {},
   "outputs": [
    {
     "name": "stdout",
     "output_type": "stream",
     "text": [
      "INFO:tensorflow:Assets written to: save_model/assets\n"
     ]
    },
    {
     "name": "stderr",
     "output_type": "stream",
     "text": [
      "INFO:tensorflow:Assets written to: save_model/assets\n"
     ]
    },
    {
     "ename": "ConverterError",
     "evalue": "<unknown>:0: error: loc(callsite(callsite(fused[\"TensorListReserve:\", \"sequential_16/lstm_35/TensorArrayV2_1@__inference__wrapped_model_347747\"] at fused[\"StatefulPartitionedCall:\", \"StatefulPartitionedCall@__inference_signature_wrapper_350140\"]) at fused[\"StatefulPartitionedCall:\", \"StatefulPartitionedCall\"])): 'tf.TensorListReserve' op requires element_shape to be static during TF Lite transformation pass\n<unknown>:0: note: loc(fused[\"StatefulPartitionedCall:\", \"StatefulPartitionedCall\"]): called from\n<unknown>:0: error: loc(callsite(callsite(fused[\"TensorListReserve:\", \"sequential_16/lstm_35/TensorArrayV2_1@__inference__wrapped_model_347747\"] at fused[\"StatefulPartitionedCall:\", \"StatefulPartitionedCall@__inference_signature_wrapper_350140\"]) at fused[\"StatefulPartitionedCall:\", \"StatefulPartitionedCall\"])): failed to legalize operation 'tf.TensorListReserve' that was explicitly marked illegal\n<unknown>:0: note: loc(fused[\"StatefulPartitionedCall:\", \"StatefulPartitionedCall\"]): called from\n<unknown>:0: error: Lowering tensor list ops is failed. Please consider using Select TF ops and disabling `_experimental_lower_tensor_list_ops` flag in the TFLite converter object. For example, converter.target_spec.supported_ops = [tf.lite.OpsSet.TFLITE_BUILTINS, tf.lite.OpsSet.SELECT_TF_OPS]\\n converter._experimental_lower_tensor_list_ops = False\n",
     "output_type": "error",
     "traceback": [
      "\u001b[1;31m---------------------------------------------------------------------------\u001b[0m",
      "\u001b[1;31mConverterError\u001b[0m                            Traceback (most recent call last)",
      "\u001b[1;32md:\\D2D\\0 SSIP Hackathon\\Sign_Language_To_Text_Converter_Hackathon\\input.ipynb Cell 19\u001b[0m in \u001b[0;36m<cell line: 3>\u001b[1;34m()\u001b[0m\n\u001b[0;32m      <a href='vscode-notebook-cell:/d%3A/D2D/0%20SSIP%20Hackathon/Sign_Language_To_Text_Converter_Hackathon/input.ipynb#X35sZmlsZQ%3D%3D?line=0'>1</a>\u001b[0m model\u001b[39m.\u001b[39msave(filepath\u001b[39m=\u001b[39m\u001b[39m\"\u001b[39m\u001b[39msave_model/\u001b[39m\u001b[39m\"\u001b[39m)\n\u001b[0;32m      <a href='vscode-notebook-cell:/d%3A/D2D/0%20SSIP%20Hackathon/Sign_Language_To_Text_Converter_Hackathon/input.ipynb#X35sZmlsZQ%3D%3D?line=1'>2</a>\u001b[0m converter \u001b[39m=\u001b[39m tf\u001b[39m.\u001b[39mlite\u001b[39m.\u001b[39mTFLiteConverter\u001b[39m.\u001b[39mfrom_saved_model(\u001b[39m'\u001b[39m\u001b[39msave_model\u001b[39m\u001b[39m'\u001b[39m)\n\u001b[1;32m----> <a href='vscode-notebook-cell:/d%3A/D2D/0%20SSIP%20Hackathon/Sign_Language_To_Text_Converter_Hackathon/input.ipynb#X35sZmlsZQ%3D%3D?line=2'>3</a>\u001b[0m tflite_model \u001b[39m=\u001b[39m converter\u001b[39m.\u001b[39;49mconvert()\n\u001b[0;32m      <a href='vscode-notebook-cell:/d%3A/D2D/0%20SSIP%20Hackathon/Sign_Language_To_Text_Converter_Hackathon/input.ipynb#X35sZmlsZQ%3D%3D?line=3'>4</a>\u001b[0m \u001b[39mopen\u001b[39m(\u001b[39m\"\u001b[39m\u001b[39maction.tflite\u001b[39m\u001b[39m\"\u001b[39m, \u001b[39m\"\u001b[39m\u001b[39mwb\u001b[39m\u001b[39m\"\u001b[39m)\u001b[39m.\u001b[39mwrite(tflite_model)\n",
      "File \u001b[1;32mc:\\Installed_software\\python\\lib\\site-packages\\tensorflow\\lite\\python\\lite.py:930\u001b[0m, in \u001b[0;36m_export_metrics.<locals>.wrapper\u001b[1;34m(self, *args, **kwargs)\u001b[0m\n\u001b[0;32m    927\u001b[0m \u001b[39m@functools\u001b[39m\u001b[39m.\u001b[39mwraps(convert_func)\n\u001b[0;32m    928\u001b[0m \u001b[39mdef\u001b[39;00m \u001b[39mwrapper\u001b[39m(\u001b[39mself\u001b[39m, \u001b[39m*\u001b[39margs, \u001b[39m*\u001b[39m\u001b[39m*\u001b[39mkwargs):\n\u001b[0;32m    929\u001b[0m   \u001b[39m# pylint: disable=protected-access\u001b[39;00m\n\u001b[1;32m--> 930\u001b[0m   \u001b[39mreturn\u001b[39;00m \u001b[39mself\u001b[39m\u001b[39m.\u001b[39m_convert_and_export_metrics(convert_func, \u001b[39m*\u001b[39margs, \u001b[39m*\u001b[39m\u001b[39m*\u001b[39mkwargs)\n",
      "File \u001b[1;32mc:\\Installed_software\\python\\lib\\site-packages\\tensorflow\\lite\\python\\lite.py:908\u001b[0m, in \u001b[0;36mTFLiteConverterBase._convert_and_export_metrics\u001b[1;34m(self, convert_func, *args, **kwargs)\u001b[0m\n\u001b[0;32m    906\u001b[0m \u001b[39mself\u001b[39m\u001b[39m.\u001b[39m_save_conversion_params_metric()\n\u001b[0;32m    907\u001b[0m start_time \u001b[39m=\u001b[39m time\u001b[39m.\u001b[39mprocess_time()\n\u001b[1;32m--> 908\u001b[0m result \u001b[39m=\u001b[39m convert_func(\u001b[39mself\u001b[39m, \u001b[39m*\u001b[39margs, \u001b[39m*\u001b[39m\u001b[39m*\u001b[39mkwargs)\n\u001b[0;32m    909\u001b[0m elapsed_time_ms \u001b[39m=\u001b[39m (time\u001b[39m.\u001b[39mprocess_time() \u001b[39m-\u001b[39m start_time) \u001b[39m*\u001b[39m \u001b[39m1000\u001b[39m\n\u001b[0;32m    910\u001b[0m \u001b[39mif\u001b[39;00m result:\n",
      "File \u001b[1;32mc:\\Installed_software\\python\\lib\\site-packages\\tensorflow\\lite\\python\\lite.py:1213\u001b[0m, in \u001b[0;36mTFLiteSavedModelConverterV2.convert\u001b[1;34m(self)\u001b[0m\n\u001b[0;32m   1208\u001b[0m \u001b[39melse\u001b[39;00m:\n\u001b[0;32m   1209\u001b[0m   \u001b[39mself\u001b[39m\u001b[39m.\u001b[39m_debug_info \u001b[39m=\u001b[39m _get_debug_info(\n\u001b[0;32m   1210\u001b[0m       _convert_debug_info_func(\u001b[39mself\u001b[39m\u001b[39m.\u001b[39m_trackable_obj\u001b[39m.\u001b[39mgraph_debug_info),\n\u001b[0;32m   1211\u001b[0m       graph_def)\n\u001b[1;32m-> 1213\u001b[0m \u001b[39mreturn\u001b[39;00m \u001b[39mself\u001b[39;49m\u001b[39m.\u001b[39;49m_convert_from_saved_model(graph_def)\n",
      "File \u001b[1;32mc:\\Installed_software\\python\\lib\\site-packages\\tensorflow\\lite\\python\\lite.py:1096\u001b[0m, in \u001b[0;36mTFLiteConverterBaseV2._convert_from_saved_model\u001b[1;34m(self, graph_def)\u001b[0m\n\u001b[0;32m   1093\u001b[0m converter_kwargs\u001b[39m.\u001b[39mupdate(\u001b[39mself\u001b[39m\u001b[39m.\u001b[39m_get_base_converter_args())\n\u001b[0;32m   1094\u001b[0m converter_kwargs\u001b[39m.\u001b[39mupdate(quant_mode\u001b[39m.\u001b[39mconverter_flags())\n\u001b[1;32m-> 1096\u001b[0m result \u001b[39m=\u001b[39m _convert_saved_model(\u001b[39m*\u001b[39m\u001b[39m*\u001b[39mconverter_kwargs)\n\u001b[0;32m   1097\u001b[0m \u001b[39mreturn\u001b[39;00m \u001b[39mself\u001b[39m\u001b[39m.\u001b[39m_optimize_tflite_model(\n\u001b[0;32m   1098\u001b[0m     result, quant_mode, quant_io\u001b[39m=\u001b[39m\u001b[39mself\u001b[39m\u001b[39m.\u001b[39mexperimental_new_quantizer)\n",
      "File \u001b[1;32mc:\\Installed_software\\python\\lib\\site-packages\\tensorflow\\lite\\python\\convert_phase.py:212\u001b[0m, in \u001b[0;36mconvert_phase.<locals>.actual_decorator.<locals>.wrapper\u001b[1;34m(*args, **kwargs)\u001b[0m\n\u001b[0;32m    210\u001b[0m   \u001b[39melse\u001b[39;00m:\n\u001b[0;32m    211\u001b[0m     report_error_message(\u001b[39mstr\u001b[39m(converter_error))\n\u001b[1;32m--> 212\u001b[0m   \u001b[39mraise\u001b[39;00m converter_error \u001b[39mfrom\u001b[39;00m \u001b[39mNone\u001b[39m  \u001b[39m# Re-throws the exception.\u001b[39;00m\n\u001b[0;32m    213\u001b[0m \u001b[39mexcept\u001b[39;00m \u001b[39mException\u001b[39;00m \u001b[39mas\u001b[39;00m error:\n\u001b[0;32m    214\u001b[0m   report_error_message(\u001b[39mstr\u001b[39m(error))\n",
      "File \u001b[1;32mc:\\Installed_software\\python\\lib\\site-packages\\tensorflow\\lite\\python\\convert_phase.py:205\u001b[0m, in \u001b[0;36mconvert_phase.<locals>.actual_decorator.<locals>.wrapper\u001b[1;34m(*args, **kwargs)\u001b[0m\n\u001b[0;32m    202\u001b[0m \u001b[39m@functools\u001b[39m\u001b[39m.\u001b[39mwraps(func)\n\u001b[0;32m    203\u001b[0m \u001b[39mdef\u001b[39;00m \u001b[39mwrapper\u001b[39m(\u001b[39m*\u001b[39margs, \u001b[39m*\u001b[39m\u001b[39m*\u001b[39mkwargs):\n\u001b[0;32m    204\u001b[0m   \u001b[39mtry\u001b[39;00m:\n\u001b[1;32m--> 205\u001b[0m     \u001b[39mreturn\u001b[39;00m func(\u001b[39m*\u001b[39margs, \u001b[39m*\u001b[39m\u001b[39m*\u001b[39mkwargs)\n\u001b[0;32m    206\u001b[0m   \u001b[39mexcept\u001b[39;00m ConverterError \u001b[39mas\u001b[39;00m converter_error:\n\u001b[0;32m    207\u001b[0m     \u001b[39mif\u001b[39;00m converter_error\u001b[39m.\u001b[39merrors:\n",
      "File \u001b[1;32mc:\\Installed_software\\python\\lib\\site-packages\\tensorflow\\lite\\python\\convert.py:809\u001b[0m, in \u001b[0;36mconvert_saved_model\u001b[1;34m(**kwargs)\u001b[0m\n\u001b[0;32m    807\u001b[0m model_flags \u001b[39m=\u001b[39m build_model_flags(\u001b[39m*\u001b[39m\u001b[39m*\u001b[39mkwargs)\n\u001b[0;32m    808\u001b[0m conversion_flags \u001b[39m=\u001b[39m build_conversion_flags(\u001b[39m*\u001b[39m\u001b[39m*\u001b[39mkwargs)\n\u001b[1;32m--> 809\u001b[0m data \u001b[39m=\u001b[39m convert(\n\u001b[0;32m    810\u001b[0m     model_flags\u001b[39m.\u001b[39;49mSerializeToString(),\n\u001b[0;32m    811\u001b[0m     conversion_flags\u001b[39m.\u001b[39;49mSerializeToString(),\n\u001b[0;32m    812\u001b[0m     input_data_str\u001b[39m=\u001b[39;49m\u001b[39mNone\u001b[39;49;00m,\n\u001b[0;32m    813\u001b[0m     debug_info_str\u001b[39m=\u001b[39;49m\u001b[39mNone\u001b[39;49;00m,\n\u001b[0;32m    814\u001b[0m     enable_mlir_converter\u001b[39m=\u001b[39;49m\u001b[39mTrue\u001b[39;49;00m)\n\u001b[0;32m    815\u001b[0m \u001b[39mreturn\u001b[39;00m data\n",
      "File \u001b[1;32mc:\\Installed_software\\python\\lib\\site-packages\\tensorflow\\lite\\python\\convert.py:311\u001b[0m, in \u001b[0;36mconvert\u001b[1;34m(model_flags_str, conversion_flags_str, input_data_str, debug_info_str, enable_mlir_converter)\u001b[0m\n\u001b[0;32m    309\u001b[0m     \u001b[39mfor\u001b[39;00m error_data \u001b[39min\u001b[39;00m _metrics_wrapper\u001b[39m.\u001b[39mretrieve_collected_errors():\n\u001b[0;32m    310\u001b[0m       converter_error\u001b[39m.\u001b[39mappend_error(error_data)\n\u001b[1;32m--> 311\u001b[0m     \u001b[39mraise\u001b[39;00m converter_error\n\u001b[0;32m    313\u001b[0m \u001b[39mreturn\u001b[39;00m _run_deprecated_conversion_binary(model_flags_str,\n\u001b[0;32m    314\u001b[0m                                          conversion_flags_str, input_data_str,\n\u001b[0;32m    315\u001b[0m                                          debug_info_str)\n",
      "\u001b[1;31mConverterError\u001b[0m: <unknown>:0: error: loc(callsite(callsite(fused[\"TensorListReserve:\", \"sequential_16/lstm_35/TensorArrayV2_1@__inference__wrapped_model_347747\"] at fused[\"StatefulPartitionedCall:\", \"StatefulPartitionedCall@__inference_signature_wrapper_350140\"]) at fused[\"StatefulPartitionedCall:\", \"StatefulPartitionedCall\"])): 'tf.TensorListReserve' op requires element_shape to be static during TF Lite transformation pass\n<unknown>:0: note: loc(fused[\"StatefulPartitionedCall:\", \"StatefulPartitionedCall\"]): called from\n<unknown>:0: error: loc(callsite(callsite(fused[\"TensorListReserve:\", \"sequential_16/lstm_35/TensorArrayV2_1@__inference__wrapped_model_347747\"] at fused[\"StatefulPartitionedCall:\", \"StatefulPartitionedCall@__inference_signature_wrapper_350140\"]) at fused[\"StatefulPartitionedCall:\", \"StatefulPartitionedCall\"])): failed to legalize operation 'tf.TensorListReserve' that was explicitly marked illegal\n<unknown>:0: note: loc(fused[\"StatefulPartitionedCall:\", \"StatefulPartitionedCall\"]): called from\n<unknown>:0: error: Lowering tensor list ops is failed. Please consider using Select TF ops and disabling `_experimental_lower_tensor_list_ops` flag in the TFLite converter object. For example, converter.target_spec.supported_ops = [tf.lite.OpsSet.TFLITE_BUILTINS, tf.lite.OpsSet.SELECT_TF_OPS]\\n converter._experimental_lower_tensor_list_ops = False\n"
     ]
    }
   ],
   "source": [
    "model.save(filepath=\"save_model/\")\n",
    "converter = tf.lite.TFLiteConverter.from_saved_model('save_model')\n",
    "tflite_model = converter.convert()\n",
    "open(\"action.tflite\", \"wb\").write(tflite_model)"
   ]
  },
  {
   "cell_type": "code",
   "execution_count": null,
   "metadata": {},
   "outputs": [],
   "source": [
    "converter = lite.TFLiteConverter.from_keras_model(model)\n",
    "tfmodel = converter.convert()\n",
    "\n",
    "open(os.path.join(DATA_PATH, \"action.tflite\"),\"wb\").write(tfmodel)"
   ]
  },
  {
   "cell_type": "code",
   "execution_count": 261,
   "metadata": {},
   "outputs": [
    {
     "ename": "UnknownError",
     "evalue": "NewRandomAccessFile failed to Create/Open: saved_model.pb : Access is denied.\r\n; Input/output error",
     "output_type": "error",
     "traceback": [
      "\u001b[1;31m---------------------------------------------------------------------------\u001b[0m",
      "\u001b[1;31mUnknownError\u001b[0m                              Traceback (most recent call last)",
      "\u001b[1;32md:\\D2D\\0 SSIP Hackathon\\Sign_Language_To_Text_Converter_Hackathon\\input.ipynb Cell 20\u001b[0m in \u001b[0;36m<cell line: 2>\u001b[1;34m()\u001b[0m\n\u001b[0;32m      <a href='vscode-notebook-cell:/d%3A/D2D/0%20SSIP%20Hackathon/Sign_Language_To_Text_Converter_Hackathon/input.ipynb#X31sZmlsZQ%3D%3D?line=0'>1</a>\u001b[0m model \u001b[39m=\u001b[39m load_model(\u001b[39m'\u001b[39m\u001b[39maction.h5\u001b[39m\u001b[39m'\u001b[39m)\n\u001b[1;32m----> <a href='vscode-notebook-cell:/d%3A/D2D/0%20SSIP%20Hackathon/Sign_Language_To_Text_Converter_Hackathon/input.ipynb#X31sZmlsZQ%3D%3D?line=1'>2</a>\u001b[0m converter \u001b[39m=\u001b[39m lite\u001b[39m.\u001b[39;49mTFLiteConverter\u001b[39m.\u001b[39;49mfrom_saved_model(\u001b[39m\"\u001b[39;49m\u001b[39m\"\u001b[39;49m)\n\u001b[0;32m      <a href='vscode-notebook-cell:/d%3A/D2D/0%20SSIP%20Hackathon/Sign_Language_To_Text_Converter_Hackathon/input.ipynb#X31sZmlsZQ%3D%3D?line=2'>3</a>\u001b[0m \u001b[39m# converter = lite.TFLiteConverter.from_keras_model(model)\u001b[39;00m\n\u001b[0;32m      <a href='vscode-notebook-cell:/d%3A/D2D/0%20SSIP%20Hackathon/Sign_Language_To_Text_Converter_Hackathon/input.ipynb#X31sZmlsZQ%3D%3D?line=3'>4</a>\u001b[0m tflite_model \u001b[39m=\u001b[39m converter\u001b[39m.\u001b[39mconvert()\n",
      "File \u001b[1;32mc:\\Installed_software\\python\\lib\\site-packages\\tensorflow\\lite\\python\\lite.py:1789\u001b[0m, in \u001b[0;36mTFLiteConverterV2.from_saved_model\u001b[1;34m(cls, saved_model_dir, signature_keys, tags)\u001b[0m\n\u001b[0;32m   1786\u001b[0m   tags \u001b[39m=\u001b[39m \u001b[39mset\u001b[39m([_tag_constants\u001b[39m.\u001b[39mSERVING])\n\u001b[0;32m   1788\u001b[0m \u001b[39mwith\u001b[39;00m context\u001b[39m.\u001b[39meager_mode():\n\u001b[1;32m-> 1789\u001b[0m   saved_model \u001b[39m=\u001b[39m _load(saved_model_dir, tags)\n\u001b[0;32m   1790\u001b[0m \u001b[39mif\u001b[39;00m \u001b[39mnot\u001b[39;00m signature_keys:\n\u001b[0;32m   1791\u001b[0m   signature_keys \u001b[39m=\u001b[39m saved_model\u001b[39m.\u001b[39msignatures\n",
      "File \u001b[1;32mc:\\Installed_software\\python\\lib\\site-packages\\tensorflow\\python\\saved_model\\load.py:800\u001b[0m, in \u001b[0;36mload\u001b[1;34m(export_dir, tags, options)\u001b[0m\n\u001b[0;32m    798\u001b[0m \u001b[39mif\u001b[39;00m \u001b[39misinstance\u001b[39m(export_dir, os\u001b[39m.\u001b[39mPathLike):\n\u001b[0;32m    799\u001b[0m   export_dir \u001b[39m=\u001b[39m os\u001b[39m.\u001b[39mfspath(export_dir)\n\u001b[1;32m--> 800\u001b[0m result \u001b[39m=\u001b[39m load_partial(export_dir, \u001b[39mNone\u001b[39;49;00m, tags, options)[\u001b[39m\"\u001b[39m\u001b[39mroot\u001b[39m\u001b[39m\"\u001b[39m]\n\u001b[0;32m    801\u001b[0m \u001b[39mreturn\u001b[39;00m result\n",
      "File \u001b[1;32mc:\\Installed_software\\python\\lib\\site-packages\\tensorflow\\python\\saved_model\\load.py:905\u001b[0m, in \u001b[0;36mload_partial\u001b[1;34m(export_dir, filters, tags, options)\u001b[0m\n\u001b[0;32m    900\u001b[0m \u001b[39mif\u001b[39;00m tags \u001b[39mis\u001b[39;00m \u001b[39mnot\u001b[39;00m \u001b[39mNone\u001b[39;00m \u001b[39mand\u001b[39;00m \u001b[39mnot\u001b[39;00m \u001b[39misinstance\u001b[39m(tags, \u001b[39mset\u001b[39m):\n\u001b[0;32m    901\u001b[0m   \u001b[39m# Supports e.g. tags=SERVING and tags=[SERVING]. Sets aren't considered\u001b[39;00m\n\u001b[0;32m    902\u001b[0m   \u001b[39m# sequences for nest.flatten, so we put those through as-is.\u001b[39;00m\n\u001b[0;32m    903\u001b[0m   tags \u001b[39m=\u001b[39m nest\u001b[39m.\u001b[39mflatten(tags)\n\u001b[0;32m    904\u001b[0m saved_model_proto, debug_info \u001b[39m=\u001b[39m (\n\u001b[1;32m--> 905\u001b[0m     loader_impl\u001b[39m.\u001b[39;49mparse_saved_model_with_debug_info(export_dir))\n\u001b[0;32m    907\u001b[0m \u001b[39mif\u001b[39;00m (\u001b[39mlen\u001b[39m(saved_model_proto\u001b[39m.\u001b[39mmeta_graphs) \u001b[39m==\u001b[39m \u001b[39m1\u001b[39m \u001b[39mand\u001b[39;00m\n\u001b[0;32m    908\u001b[0m     saved_model_proto\u001b[39m.\u001b[39mmeta_graphs[\u001b[39m0\u001b[39m]\u001b[39m.\u001b[39mHasField(\u001b[39m\"\u001b[39m\u001b[39mobject_graph_def\u001b[39m\u001b[39m\"\u001b[39m)):\n\u001b[0;32m    909\u001b[0m   metrics\u001b[39m.\u001b[39mIncrementReadApi(_LOAD_V2_LABEL)\n",
      "File \u001b[1;32mc:\\Installed_software\\python\\lib\\site-packages\\tensorflow\\python\\saved_model\\loader_impl.py:57\u001b[0m, in \u001b[0;36mparse_saved_model_with_debug_info\u001b[1;34m(export_dir)\u001b[0m\n\u001b[0;32m     44\u001b[0m \u001b[39mdef\u001b[39;00m \u001b[39mparse_saved_model_with_debug_info\u001b[39m(export_dir):\n\u001b[0;32m     45\u001b[0m   \u001b[39m\"\"\"Reads the savedmodel as well as the graph debug info.\u001b[39;00m\n\u001b[0;32m     46\u001b[0m \n\u001b[0;32m     47\u001b[0m \u001b[39m  Args:\u001b[39;00m\n\u001b[1;32m   (...)\u001b[0m\n\u001b[0;32m     55\u001b[0m \u001b[39m    parsed. Missing graph debug info file is fine.\u001b[39;00m\n\u001b[0;32m     56\u001b[0m \u001b[39m  \"\"\"\u001b[39;00m\n\u001b[1;32m---> 57\u001b[0m   saved_model \u001b[39m=\u001b[39m parse_saved_model(export_dir)\n\u001b[0;32m     59\u001b[0m   debug_info_path \u001b[39m=\u001b[39m file_io\u001b[39m.\u001b[39mjoin(\n\u001b[0;32m     60\u001b[0m       saved_model_utils\u001b[39m.\u001b[39mget_debug_dir(export_dir),\n\u001b[0;32m     61\u001b[0m       constants\u001b[39m.\u001b[39mDEBUG_INFO_FILENAME_PB)\n\u001b[0;32m     62\u001b[0m   debug_info \u001b[39m=\u001b[39m graph_debug_info_pb2\u001b[39m.\u001b[39mGraphDebugInfo()\n",
      "File \u001b[1;32mc:\\Installed_software\\python\\lib\\site-packages\\tensorflow\\python\\saved_model\\loader_impl.py:100\u001b[0m, in \u001b[0;36mparse_saved_model\u001b[1;34m(export_dir)\u001b[0m\n\u001b[0;32m     98\u001b[0m \u001b[39mif\u001b[39;00m file_io\u001b[39m.\u001b[39mfile_exists(path_to_pb):\n\u001b[0;32m     99\u001b[0m   \u001b[39mwith\u001b[39;00m file_io\u001b[39m.\u001b[39mFileIO(path_to_pb, \u001b[39m\"\u001b[39m\u001b[39mrb\u001b[39m\u001b[39m\"\u001b[39m) \u001b[39mas\u001b[39;00m f:\n\u001b[1;32m--> 100\u001b[0m     file_content \u001b[39m=\u001b[39m f\u001b[39m.\u001b[39;49mread()\n\u001b[0;32m    101\u001b[0m   \u001b[39mtry\u001b[39;00m:\n\u001b[0;32m    102\u001b[0m     saved_model\u001b[39m.\u001b[39mParseFromString(file_content)\n",
      "File \u001b[1;32mc:\\Installed_software\\python\\lib\\site-packages\\tensorflow\\python\\lib\\io\\file_io.py:114\u001b[0m, in \u001b[0;36mFileIO.read\u001b[1;34m(self, n)\u001b[0m\n\u001b[0;32m    102\u001b[0m \u001b[39mdef\u001b[39;00m \u001b[39mread\u001b[39m(\u001b[39mself\u001b[39m, n\u001b[39m=\u001b[39m\u001b[39m-\u001b[39m\u001b[39m1\u001b[39m):\n\u001b[0;32m    103\u001b[0m   \u001b[39m\"\"\"Returns the contents of a file as a string.\u001b[39;00m\n\u001b[0;32m    104\u001b[0m \n\u001b[0;32m    105\u001b[0m \u001b[39m  Starts reading from current position in file.\u001b[39;00m\n\u001b[1;32m   (...)\u001b[0m\n\u001b[0;32m    112\u001b[0m \u001b[39m    string if in string (regular) mode.\u001b[39;00m\n\u001b[0;32m    113\u001b[0m \u001b[39m  \"\"\"\u001b[39;00m\n\u001b[1;32m--> 114\u001b[0m   \u001b[39mself\u001b[39;49m\u001b[39m.\u001b[39;49m_preread_check()\n\u001b[0;32m    115\u001b[0m   \u001b[39mif\u001b[39;00m n \u001b[39m==\u001b[39m \u001b[39m-\u001b[39m\u001b[39m1\u001b[39m:\n\u001b[0;32m    116\u001b[0m     length \u001b[39m=\u001b[39m \u001b[39mself\u001b[39m\u001b[39m.\u001b[39msize() \u001b[39m-\u001b[39m \u001b[39mself\u001b[39m\u001b[39m.\u001b[39mtell()\n",
      "File \u001b[1;32mc:\\Installed_software\\python\\lib\\site-packages\\tensorflow\\python\\lib\\io\\file_io.py:76\u001b[0m, in \u001b[0;36mFileIO._preread_check\u001b[1;34m(self)\u001b[0m\n\u001b[0;32m     73\u001b[0m \u001b[39mif\u001b[39;00m \u001b[39mnot\u001b[39;00m \u001b[39mself\u001b[39m\u001b[39m.\u001b[39m_read_check_passed:\n\u001b[0;32m     74\u001b[0m   \u001b[39mraise\u001b[39;00m errors\u001b[39m.\u001b[39mPermissionDeniedError(\u001b[39mNone\u001b[39;00m, \u001b[39mNone\u001b[39;00m,\n\u001b[0;32m     75\u001b[0m                                      \u001b[39m\"\u001b[39m\u001b[39mFile isn\u001b[39m\u001b[39m'\u001b[39m\u001b[39mt open for reading\u001b[39m\u001b[39m\"\u001b[39m)\n\u001b[1;32m---> 76\u001b[0m \u001b[39mself\u001b[39m\u001b[39m.\u001b[39m_read_buf \u001b[39m=\u001b[39m _pywrap_file_io\u001b[39m.\u001b[39;49mBufferedInputStream(\n\u001b[0;32m     77\u001b[0m     compat\u001b[39m.\u001b[39;49mpath_to_str(\u001b[39mself\u001b[39;49m\u001b[39m.\u001b[39;49m__name), \u001b[39m1024\u001b[39;49m \u001b[39m*\u001b[39;49m \u001b[39m512\u001b[39;49m)\n",
      "\u001b[1;31mUnknownError\u001b[0m: NewRandomAccessFile failed to Create/Open: saved_model.pb : Access is denied.\r\n; Input/output error"
     ]
    }
   ],
   "source": [
    "model = load_model('action.h5')\n",
    "converter = lite.TFLiteConverter.from_saved_model(\"\")\n",
    "# converter = lite.TFLiteConverter.from_keras_model(model)\n",
    "tflite_model = converter.convert()\n",
    "open(\"action_new.tflite\", \"wb\").write(tflite_model)"
   ]
  },
  {
   "cell_type": "code",
   "execution_count": 250,
   "metadata": {},
   "outputs": [
    {
     "name": "stdout",
     "output_type": "stream",
     "text": [
      "1/1 [==============================] - 1s 556ms/step\n"
     ]
    },
    {
     "data": {
      "text/plain": [
       "array([[[0, 0],\n",
       "        [0, 2]]], dtype=int64)"
      ]
     },
     "execution_count": 250,
     "metadata": {},
     "output_type": "execute_result"
    }
   ],
   "source": [
    "yhat = model.predict(X_test)\n",
    "ytrue = np.argmax(y_test, axis=1).tolist()\n",
    "yhat = np.argmax(yhat, axis=1).tolist()\n",
    "\n",
    "multilabel_confusion_matrix(ytrue, yhat)"
   ]
  },
  {
   "cell_type": "code",
   "execution_count": 251,
   "metadata": {},
   "outputs": [
    {
     "data": {
      "text/plain": [
       "1.0"
      ]
     },
     "execution_count": 251,
     "metadata": {},
     "output_type": "execute_result"
    }
   ],
   "source": [
    "accuracy_score(ytrue, yhat)"
   ]
  },
  {
   "cell_type": "code",
   "execution_count": 89,
   "metadata": {},
   "outputs": [],
   "source": [
    "import cv2\n",
    "import mediapipe as mp\n",
    "mp_drawing = mp.solutions.drawing_utils\n",
    "mp_drawing_styles = mp.solutions.drawing_styles\n",
    "mp_hands = mp.solutions.hands\n",
    "\n",
    "# For static images:\n",
    "IMAGE_FILES = []\n",
    "with mp_hands.Hands(\n",
    "    static_image_mode=True,\n",
    "    max_num_hands=2,\n",
    "    min_detection_confidence=0.5) as hands:\n",
    "  for idx, file in enumerate(IMAGE_FILES):\n",
    "    # Read an image, flip it around y-axis for correct handedness output (see\n",
    "    # above).\n",
    "    image = cv2.flip(cv2.imread(file), 1)\n",
    "    # Convert the BGR image to RGB before processing.\n",
    "    results = hands.process(cv2.cvtColor(image, cv2.COLOR_BGR2RGB))\n",
    "\n",
    "    # Print handedness and draw hand landmarks on the image.\n",
    "    print('Handedness:', results.multi_handedness)\n",
    "    if not results.multi_hand_landmarks:\n",
    "      continue\n",
    "    image_height, image_width, _ = image.shape\n",
    "    annotated_image = image.copy()\n",
    "    for hand_landmarks in results.multi_hand_landmarks:\n",
    "      print('hand_landmarks:', hand_landmarks)\n",
    "      print(\n",
    "          f'Index finger tip coordinates: (',\n",
    "          f'{hand_landmarks.landmark[mp_hands.HandLandmark.INDEX_FINGER_TIP].x * image_width}, '\n",
    "          f'{hand_landmarks.landmark[mp_hands.HandLandmark.INDEX_FINGER_TIP].y * image_height})'\n",
    "      )\n",
    "      mp_drawing.draw_landmarks(\n",
    "          annotated_image,\n",
    "          hand_landmarks,\n",
    "          mp_hands.HAND_CONNECTIONS,\n",
    "          mp_drawing_styles.get_default_hand_landmarks_style(),\n",
    "          mp_drawing_styles.get_default_hand_connections_style())\n",
    "    cv2.imwrite(\n",
    "        '/tmp/annotated_image' + str(idx) + '.png', cv2.flip(annotated_image, 1))\n",
    "    # Draw hand world landmarks.\n",
    "    if not results.multi_hand_world_landmarks:\n",
    "      continue\n",
    "    for hand_world_landmarks in results.multi_hand_world_landmarks:\n",
    "      mp_drawing.plot_landmarks(\n",
    "        hand_world_landmarks, mp_hands.HAND_CONNECTIONS, azimuth=5)\n",
    "\n",
    "# For webcam input:\n",
    "cap = cv2.VideoCapture(0)\n",
    "with mp_hands.Hands(\n",
    "    model_complexity=0,\n",
    "    min_detection_confidence=0.5,\n",
    "    min_tracking_confidence=0.5) as hands:\n",
    "  while cap.isOpened():\n",
    "    success, image = cap.read()\n",
    "    if not success:\n",
    "      print(\"Ignoring empty camera frame.\")\n",
    "      # If loading a video, use 'break' instead of 'continue'.\n",
    "      continue\n",
    "\n",
    "    # To improve performance, optionally mark the image as not writeable to\n",
    "    # pass by reference.\n",
    "    image.flags.writeable = False\n",
    "    image = cv2.cvtColor(image, cv2.COLOR_BGR2RGB)\n",
    "    results = hands.process(image)\n",
    "\n",
    "    # Draw the hand annotations on the image.\n",
    "    image.flags.writeable = True\n",
    "    image = cv2.cvtColor(image, cv2.COLOR_RGB2BGR)\n",
    "    if results.multi_hand_landmarks:\n",
    "      for hand_landmarks in results.multi_hand_landmarks:\n",
    "        mp_drawing.draw_landmarks(\n",
    "            image,\n",
    "            hand_landmarks,\n",
    "            mp_hands.HAND_CONNECTIONS,\n",
    "            mp_drawing_styles.get_default_hand_landmarks_style(),\n",
    "            mp_drawing_styles.get_default_hand_connections_style())\n",
    "    # Flip the image horizontally for a selfie-view display.\n",
    "    cv2.imshow('MediaPipe Hands', cv2.flip(image, 1))\n",
    "    if cv2.waitKey(10) & 0xFF == ord('q'):\n",
    "      break\n",
    "    \n",
    "cap.release()\n",
    "cv2.destroyAllWindows()"
   ]
  }
 ],
 "metadata": {
  "kernelspec": {
   "display_name": "Python 3.10.6 64-bit",
   "language": "python",
   "name": "python3"
  },
  "language_info": {
   "codemirror_mode": {
    "name": "ipython",
    "version": 3
   },
   "file_extension": ".py",
   "mimetype": "text/x-python",
   "name": "python",
   "nbconvert_exporter": "python",
   "pygments_lexer": "ipython3",
   "version": "3.10.6"
  },
  "orig_nbformat": 4,
  "vscode": {
   "interpreter": {
    "hash": "7ce6ccc11a83bc9bed0c17f1af93ce616e6495f116eabf1a0084cc277f1779e4"
   }
  }
 },
 "nbformat": 4,
 "nbformat_minor": 2
}
